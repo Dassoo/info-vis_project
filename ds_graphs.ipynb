{
 "cells": [
  {
   "cell_type": "markdown",
   "metadata": {},
   "source": [
    "# Imports"
   ]
  },
  {
   "cell_type": "code",
   "execution_count": 1,
   "metadata": {},
   "outputs": [],
   "source": [
    "import pandas as pd\n",
    "import seaborn as sns\n",
    "import matplotlib.pyplot as plt\n",
    "from matplotlib.pyplot import figure\n",
    "import numpy as np\n",
    "from sklearn.model_selection import train_test_split\n",
    "from sklearn.feature_extraction.text import CountVectorizer\n",
    "from sklearn.naive_bayes import MultinomialNB\n",
    "from sklearn.metrics import accuracy_score\n",
    "from sklearn.metrics import confusion_matrix\n",
    "from collections import Counter\n",
    "\n",
    "plt.rcParams[\"figure.figsize\"] = (15,10)\n",
    "\n",
    "covid_df = pd.read_csv('datasets/covid_DF.csv')\n",
    "gp_df = pd.read_csv('datasets/gp_DF.csv')\n",
    "mgr_df = pd.read_csv('datasets/mgr_DF.csv')\n",
    "\n",
    "gp_text = gp_df[\"text\"].tolist()\n",
    "migranti_text = mgr_df[\"text\"].tolist()"
   ]
  },
  {
   "cell_type": "markdown",
   "metadata": {},
   "source": [
    "# Covid DF"
   ]
  },
  {
   "cell_type": "markdown",
   "metadata": {},
   "source": [
    "Raw Covid table"
   ]
  },
  {
   "cell_type": "code",
   "execution_count": 2,
   "metadata": {},
   "outputs": [
    {
     "data": {
      "text/html": [
       "<div>\n",
       "<style scoped>\n",
       "    .dataframe tbody tr th:only-of-type {\n",
       "        vertical-align: middle;\n",
       "    }\n",
       "\n",
       "    .dataframe tbody tr th {\n",
       "        vertical-align: top;\n",
       "    }\n",
       "\n",
       "    .dataframe thead th {\n",
       "        text-align: right;\n",
       "    }\n",
       "</style>\n",
       "<table border=\"1\" class=\"dataframe\">\n",
       "  <thead>\n",
       "    <tr style=\"text-align: right;\">\n",
       "      <th></th>\n",
       "      <th>created</th>\n",
       "      <th>text</th>\n",
       "      <th>fav_count</th>\n",
       "      <th>retw_count</th>\n",
       "      <th>source</th>\n",
       "      <th>index</th>\n",
       "    </tr>\n",
       "  </thead>\n",
       "  <tbody>\n",
       "    <tr>\n",
       "      <th>0</th>\n",
       "      <td>2021-11-09</td>\n",
       "      <td>L'Europa è attesa da un inverno \"duro\" per l'a...</td>\n",
       "      <td>16</td>\n",
       "      <td>10</td>\n",
       "      <td>agenzia_ansa</td>\n",
       "      <td>0</td>\n",
       "    </tr>\n",
       "    <tr>\n",
       "      <th>1</th>\n",
       "      <td>2021-11-09</td>\n",
       "      <td>A Singapore le persone che non sono vaccinate ...</td>\n",
       "      <td>155</td>\n",
       "      <td>36</td>\n",
       "      <td>agenzia_ansa</td>\n",
       "      <td>0</td>\n",
       "    </tr>\n",
       "    <tr>\n",
       "      <th>2</th>\n",
       "      <td>2021-11-09</td>\n",
       "      <td>Torna a risalire in Italia la percentuale di p...</td>\n",
       "      <td>18</td>\n",
       "      <td>10</td>\n",
       "      <td>agenzia_ansa</td>\n",
       "      <td>0</td>\n",
       "    </tr>\n",
       "    <tr>\n",
       "      <th>3</th>\n",
       "      <td>2021-11-09</td>\n",
       "      <td>La Russia supera la soglia dei 1.200 morti in ...</td>\n",
       "      <td>29</td>\n",
       "      <td>11</td>\n",
       "      <td>agenzia_ansa</td>\n",
       "      <td>0</td>\n",
       "    </tr>\n",
       "    <tr>\n",
       "      <th>4</th>\n",
       "      <td>2021-11-08</td>\n",
       "      <td>FLASH | Sono 4.197 i positivi ai test Covid in...</td>\n",
       "      <td>18</td>\n",
       "      <td>8</td>\n",
       "      <td>agenzia_ansa</td>\n",
       "      <td>0</td>\n",
       "    </tr>\n",
       "    <tr>\n",
       "      <th>...</th>\n",
       "      <td>...</td>\n",
       "      <td>...</td>\n",
       "      <td>...</td>\n",
       "      <td>...</td>\n",
       "      <td>...</td>\n",
       "      <td>...</td>\n",
       "    </tr>\n",
       "    <tr>\n",
       "      <th>1984</th>\n",
       "      <td>2021-12-02</td>\n",
       "      <td>#Covid, mappa Ecdc: tutta l'Ue è rossa, zone g...</td>\n",
       "      <td>1</td>\n",
       "      <td>2</td>\n",
       "      <td>qn_giorno</td>\n",
       "      <td>1</td>\n",
       "    </tr>\n",
       "    <tr>\n",
       "      <th>1985</th>\n",
       "      <td>2021-12-02</td>\n",
       "      <td>#Covid #Israele sconsiglia viaggi all'estero, ...</td>\n",
       "      <td>1</td>\n",
       "      <td>0</td>\n",
       "      <td>qn_giorno</td>\n",
       "      <td>1</td>\n",
       "    </tr>\n",
       "    <tr>\n",
       "      <th>1986</th>\n",
       "      <td>2021-12-02</td>\n",
       "      <td>#Covid, Vaccino AstraZeneca, team di esperti: ...</td>\n",
       "      <td>1</td>\n",
       "      <td>1</td>\n",
       "      <td>qn_giorno</td>\n",
       "      <td>1</td>\n",
       "    </tr>\n",
       "    <tr>\n",
       "      <th>1987</th>\n",
       "      <td>2021-12-02</td>\n",
       "      <td>Ammortizzatori e #cassa #Covid improvviso aume...</td>\n",
       "      <td>2</td>\n",
       "      <td>1</td>\n",
       "      <td>qn_giorno</td>\n",
       "      <td>1</td>\n",
       "    </tr>\n",
       "    <tr>\n",
       "      <th>1988</th>\n",
       "      <td>2021-12-01</td>\n",
       "      <td>Bollettino Covid Italia e Lombardia oggi 1 dic...</td>\n",
       "      <td>1</td>\n",
       "      <td>0</td>\n",
       "      <td>qn_giorno</td>\n",
       "      <td>1</td>\n",
       "    </tr>\n",
       "  </tbody>\n",
       "</table>\n",
       "<p>1989 rows × 6 columns</p>\n",
       "</div>"
      ],
      "text/plain": [
       "        created                                               text  fav_count  \\\n",
       "0    2021-11-09  L'Europa è attesa da un inverno \"duro\" per l'a...         16   \n",
       "1    2021-11-09  A Singapore le persone che non sono vaccinate ...        155   \n",
       "2    2021-11-09  Torna a risalire in Italia la percentuale di p...         18   \n",
       "3    2021-11-09  La Russia supera la soglia dei 1.200 morti in ...         29   \n",
       "4    2021-11-08  FLASH | Sono 4.197 i positivi ai test Covid in...         18   \n",
       "...         ...                                                ...        ...   \n",
       "1984 2021-12-02  #Covid, mappa Ecdc: tutta l'Ue è rossa, zone g...          1   \n",
       "1985 2021-12-02  #Covid #Israele sconsiglia viaggi all'estero, ...          1   \n",
       "1986 2021-12-02  #Covid, Vaccino AstraZeneca, team di esperti: ...          1   \n",
       "1987 2021-12-02  Ammortizzatori e #cassa #Covid improvviso aume...          2   \n",
       "1988 2021-12-01  Bollettino Covid Italia e Lombardia oggi 1 dic...          1   \n",
       "\n",
       "      retw_count        source  index  \n",
       "0             10  agenzia_ansa      0  \n",
       "1             36  agenzia_ansa      0  \n",
       "2             10  agenzia_ansa      0  \n",
       "3             11  agenzia_ansa      0  \n",
       "4              8  agenzia_ansa      0  \n",
       "...          ...           ...    ...  \n",
       "1984           2     qn_giorno      1  \n",
       "1985           0     qn_giorno      1  \n",
       "1986           1     qn_giorno      1  \n",
       "1987           1     qn_giorno      1  \n",
       "1988           0     qn_giorno      1  \n",
       "\n",
       "[1989 rows x 6 columns]"
      ]
     },
     "execution_count": 2,
     "metadata": {},
     "output_type": "execute_result"
    }
   ],
   "source": [
    "covid_df = covid_df.drop(columns=['Unnamed: 0'])\n",
    "covid_df['created'] = covid_df['created'].map(lambda x: str(x)[:-9])\n",
    "covid_df['created'] = pd.to_datetime(covid_df['created'], format='%Y-%m-%d')\n",
    "covid_df"
   ]
  },
  {
   "cell_type": "code",
   "execution_count": 3,
   "metadata": {},
   "outputs": [
    {
     "data": {
      "image/png": "[encoded data removed]",
      "text/plain": [
       "<Figure size 432x288 with 1 Axes>"
      ]
     },
     "metadata": {
      "needs_background": "light"
     },
     "output_type": "display_data"
    }
   ],
   "source": [
    "covid_df['created'] = pd.DatetimeIndex(covid_df['created']).day\n",
    "plt.scatter(covid_df['created'],covid_df['fav_count'], c=covid_df['index'], alpha = 0.6)\n",
    "plt.xlabel('Creation')\n",
    "plt.ylabel('Favourite count')\n",
    "plt.show()"
   ]
  },
  {
   "cell_type": "markdown",
   "metadata": {},
   "source": [
    "Tweets count by Index"
   ]
  },
  {
   "cell_type": "code",
   "execution_count": 4,
   "metadata": {},
   "outputs": [
    {
     "data": {
      "text/html": [
       "<div>\n",
       "<style scoped>\n",
       "    .dataframe tbody tr th:only-of-type {\n",
       "        vertical-align: middle;\n",
       "    }\n",
       "\n",
       "    .dataframe tbody tr th {\n",
       "        vertical-align: top;\n",
       "    }\n",
       "\n",
       "    .dataframe thead th {\n",
       "        text-align: right;\n",
       "    }\n",
       "</style>\n",
       "<table border=\"1\" class=\"dataframe\">\n",
       "  <thead>\n",
       "    <tr style=\"text-align: right;\">\n",
       "      <th></th>\n",
       "      <th>created</th>\n",
       "      <th>text</th>\n",
       "      <th>fav_count</th>\n",
       "      <th>retw_count</th>\n",
       "      <th>source</th>\n",
       "    </tr>\n",
       "    <tr>\n",
       "      <th>index</th>\n",
       "      <th></th>\n",
       "      <th></th>\n",
       "      <th></th>\n",
       "      <th></th>\n",
       "      <th></th>\n",
       "    </tr>\n",
       "  </thead>\n",
       "  <tbody>\n",
       "    <tr>\n",
       "      <th>-1</th>\n",
       "      <td>551</td>\n",
       "      <td>551</td>\n",
       "      <td>551</td>\n",
       "      <td>551</td>\n",
       "      <td>551</td>\n",
       "    </tr>\n",
       "    <tr>\n",
       "      <th>0</th>\n",
       "      <td>996</td>\n",
       "      <td>996</td>\n",
       "      <td>996</td>\n",
       "      <td>996</td>\n",
       "      <td>996</td>\n",
       "    </tr>\n",
       "    <tr>\n",
       "      <th>1</th>\n",
       "      <td>442</td>\n",
       "      <td>442</td>\n",
       "      <td>442</td>\n",
       "      <td>442</td>\n",
       "      <td>442</td>\n",
       "    </tr>\n",
       "  </tbody>\n",
       "</table>\n",
       "</div>"
      ],
      "text/plain": [
       "       created  text  fav_count  retw_count  source\n",
       "index                                              \n",
       "-1         551   551        551         551     551\n",
       " 0         996   996        996         996     996\n",
       " 1         442   442        442         442     442"
      ]
     },
     "execution_count": 4,
     "metadata": {},
     "output_type": "execute_result"
    }
   ],
   "source": [
    "covid_index_count = covid_df.groupby('index').count()\n",
    "covid_sx_count = covid_index_count['created'][-1]\n",
    "covid_center_count = covid_index_count['created'][0]\n",
    "covid_dx_count = covid_index_count['created'][1]\n",
    "covid_index_count"
   ]
  },
  {
   "cell_type": "code",
   "execution_count": 5,
   "metadata": {},
   "outputs": [
    {
     "data": {
      "image/png": "[encoded data removed]",
      "text/plain": [
       "<Figure size 432x288 with 1 Axes>"
      ]
     },
     "metadata": {
      "needs_background": "light"
     },
     "output_type": "display_data"
    }
   ],
   "source": [
    "plt.scatter(covid_df['created'],covid_df['fav_count'], c=covid_df['index'], alpha = 0.6)\n",
    "plt.xlabel('Creation')\n",
    "plt.ylabel('Favourite count')\n",
    "plt.show()"
   ]
  },
  {
   "cell_type": "markdown",
   "metadata": {},
   "source": [
    "# Green Pass DF"
   ]
  },
  {
   "cell_type": "markdown",
   "metadata": {},
   "source": [
    "Raw Green pass table"
   ]
  },
  {
   "cell_type": "code",
   "execution_count": 6,
   "metadata": {},
   "outputs": [
    {
     "data": {
      "text/html": [
       "<div>\n",
       "<style scoped>\n",
       "    .dataframe tbody tr th:only-of-type {\n",
       "        vertical-align: middle;\n",
       "    }\n",
       "\n",
       "    .dataframe tbody tr th {\n",
       "        vertical-align: top;\n",
       "    }\n",
       "\n",
       "    .dataframe thead th {\n",
       "        text-align: right;\n",
       "    }\n",
       "</style>\n",
       "<table border=\"1\" class=\"dataframe\">\n",
       "  <thead>\n",
       "    <tr style=\"text-align: right;\">\n",
       "      <th></th>\n",
       "      <th>created</th>\n",
       "      <th>text</th>\n",
       "      <th>fav_count</th>\n",
       "      <th>retw_count</th>\n",
       "      <th>source</th>\n",
       "      <th>index</th>\n",
       "    </tr>\n",
       "  </thead>\n",
       "  <tbody>\n",
       "    <tr>\n",
       "      <th>0</th>\n",
       "      <td>2021-11-09 10:42:50</td>\n",
       "      <td>#NoGreenPass, stop alle manifestazioni all’int...</td>\n",
       "      <td>49</td>\n",
       "      <td>14</td>\n",
       "      <td>rainews</td>\n",
       "      <td>0</td>\n",
       "    </tr>\n",
       "    <tr>\n",
       "      <th>1</th>\n",
       "      <td>2021-11-09 08:56:29</td>\n",
       "      <td>RT @RaiStudio24: A. #Fontana (@FontanaPres) Pr...</td>\n",
       "      <td>0</td>\n",
       "      <td>1</td>\n",
       "      <td>rainews</td>\n",
       "      <td>0</td>\n",
       "    </tr>\n",
       "    <tr>\n",
       "      <th>2</th>\n",
       "      <td>2021-11-09 13:02:57</td>\n",
       "      <td>No Green pass, stretta del Viminale: stop ai c...</td>\n",
       "      <td>36</td>\n",
       "      <td>6</td>\n",
       "      <td>mediasettgcom24</td>\n",
       "      <td>0</td>\n",
       "    </tr>\n",
       "    <tr>\n",
       "      <th>3</th>\n",
       "      <td>2021-11-09 13:00:08</td>\n",
       "      <td>No Green pass, stretta del Viminale: stop ai c...</td>\n",
       "      <td>18</td>\n",
       "      <td>3</td>\n",
       "      <td>mediasettgcom24</td>\n",
       "      <td>0</td>\n",
       "    </tr>\n",
       "    <tr>\n",
       "      <th>4</th>\n",
       "      <td>2021-11-09 12:57:09</td>\n",
       "      <td>No Green pass, stretta del Viminale: stop ai c...</td>\n",
       "      <td>17</td>\n",
       "      <td>1</td>\n",
       "      <td>mediasettgcom24</td>\n",
       "      <td>0</td>\n",
       "    </tr>\n",
       "    <tr>\n",
       "      <th>...</th>\n",
       "      <td>...</td>\n",
       "      <td>...</td>\n",
       "      <td>...</td>\n",
       "      <td>...</td>\n",
       "      <td>...</td>\n",
       "      <td>...</td>\n",
       "    </tr>\n",
       "    <tr>\n",
       "      <th>468</th>\n",
       "      <td>2021-12-02 07:28:18</td>\n",
       "      <td>Non controllavano il Green pass ai clienti sed...</td>\n",
       "      <td>8</td>\n",
       "      <td>0</td>\n",
       "      <td>gazzettino</td>\n",
       "      <td>1</td>\n",
       "    </tr>\n",
       "    <tr>\n",
       "      <th>469</th>\n",
       "      <td>2021-12-01 14:24:19</td>\n",
       "      <td>Green pass, forze dell'ordine sui #bus per ver...</td>\n",
       "      <td>0</td>\n",
       "      <td>2</td>\n",
       "      <td>gazzettino</td>\n",
       "      <td>1</td>\n",
       "    </tr>\n",
       "    <tr>\n",
       "      <th>470</th>\n",
       "      <td>2021-12-03 13:14:39</td>\n",
       "      <td>Come ottenere il Super Green pass https://t.co...</td>\n",
       "      <td>0</td>\n",
       "      <td>0</td>\n",
       "      <td>qn_carlino</td>\n",
       "      <td>1</td>\n",
       "    </tr>\n",
       "    <tr>\n",
       "      <th>471</th>\n",
       "      <td>2021-12-02 13:14:23</td>\n",
       "      <td>Green pass super, da quando vale e come si sca...</td>\n",
       "      <td>1</td>\n",
       "      <td>1</td>\n",
       "      <td>qn_carlino</td>\n",
       "      <td>1</td>\n",
       "    </tr>\n",
       "    <tr>\n",
       "      <th>472</th>\n",
       "      <td>2021-12-03 11:21:42</td>\n",
       "      <td>Super Green Pass, da lunedì i controlli a Mila...</td>\n",
       "      <td>0</td>\n",
       "      <td>0</td>\n",
       "      <td>qn_giorno</td>\n",
       "      <td>1</td>\n",
       "    </tr>\n",
       "  </tbody>\n",
       "</table>\n",
       "<p>473 rows × 6 columns</p>\n",
       "</div>"
      ],
      "text/plain": [
       "                 created                                               text  \\\n",
       "0    2021-11-09 10:42:50  #NoGreenPass, stop alle manifestazioni all’int...   \n",
       "1    2021-11-09 08:56:29  RT @RaiStudio24: A. #Fontana (@FontanaPres) Pr...   \n",
       "2    2021-11-09 13:02:57  No Green pass, stretta del Viminale: stop ai c...   \n",
       "3    2021-11-09 13:00:08  No Green pass, stretta del Viminale: stop ai c...   \n",
       "4    2021-11-09 12:57:09  No Green pass, stretta del Viminale: stop ai c...   \n",
       "..                   ...                                                ...   \n",
       "468  2021-12-02 07:28:18  Non controllavano il Green pass ai clienti sed...   \n",
       "469  2021-12-01 14:24:19  Green pass, forze dell'ordine sui #bus per ver...   \n",
       "470  2021-12-03 13:14:39  Come ottenere il Super Green pass https://t.co...   \n",
       "471  2021-12-02 13:14:23  Green pass super, da quando vale e come si sca...   \n",
       "472  2021-12-03 11:21:42  Super Green Pass, da lunedì i controlli a Mila...   \n",
       "\n",
       "     fav_count  retw_count           source  index  \n",
       "0           49          14          rainews      0  \n",
       "1            0           1          rainews      0  \n",
       "2           36           6  mediasettgcom24      0  \n",
       "3           18           3  mediasettgcom24      0  \n",
       "4           17           1  mediasettgcom24      0  \n",
       "..         ...         ...              ...    ...  \n",
       "468          8           0       gazzettino      1  \n",
       "469          0           2       gazzettino      1  \n",
       "470          0           0       qn_carlino      1  \n",
       "471          1           1       qn_carlino      1  \n",
       "472          0           0        qn_giorno      1  \n",
       "\n",
       "[473 rows x 6 columns]"
      ]
     },
     "execution_count": 6,
     "metadata": {},
     "output_type": "execute_result"
    }
   ],
   "source": [
    "gp_df = gp_df.drop(columns=['Unnamed: 0'])\n",
    "gp_df"
   ]
  },
  {
   "cell_type": "markdown",
   "metadata": {},
   "source": [
    "Tweets count by Index"
   ]
  },
  {
   "cell_type": "code",
   "execution_count": 7,
   "metadata": {},
   "outputs": [
    {
     "data": {
      "text/html": [
       "<div>\n",
       "<style scoped>\n",
       "    .dataframe tbody tr th:only-of-type {\n",
       "        vertical-align: middle;\n",
       "    }\n",
       "\n",
       "    .dataframe tbody tr th {\n",
       "        vertical-align: top;\n",
       "    }\n",
       "\n",
       "    .dataframe thead th {\n",
       "        text-align: right;\n",
       "    }\n",
       "</style>\n",
       "<table border=\"1\" class=\"dataframe\">\n",
       "  <thead>\n",
       "    <tr style=\"text-align: right;\">\n",
       "      <th></th>\n",
       "      <th>created</th>\n",
       "      <th>text</th>\n",
       "      <th>fav_count</th>\n",
       "      <th>retw_count</th>\n",
       "      <th>source</th>\n",
       "    </tr>\n",
       "    <tr>\n",
       "      <th>index</th>\n",
       "      <th></th>\n",
       "      <th></th>\n",
       "      <th></th>\n",
       "      <th></th>\n",
       "      <th></th>\n",
       "    </tr>\n",
       "  </thead>\n",
       "  <tbody>\n",
       "    <tr>\n",
       "      <th>-1</th>\n",
       "      <td>215</td>\n",
       "      <td>215</td>\n",
       "      <td>215</td>\n",
       "      <td>215</td>\n",
       "      <td>215</td>\n",
       "    </tr>\n",
       "    <tr>\n",
       "      <th>0</th>\n",
       "      <td>158</td>\n",
       "      <td>158</td>\n",
       "      <td>158</td>\n",
       "      <td>158</td>\n",
       "      <td>158</td>\n",
       "    </tr>\n",
       "    <tr>\n",
       "      <th>1</th>\n",
       "      <td>100</td>\n",
       "      <td>100</td>\n",
       "      <td>100</td>\n",
       "      <td>100</td>\n",
       "      <td>100</td>\n",
       "    </tr>\n",
       "  </tbody>\n",
       "</table>\n",
       "</div>"
      ],
      "text/plain": [
       "       created  text  fav_count  retw_count  source\n",
       "index                                              \n",
       "-1         215   215        215         215     215\n",
       " 0         158   158        158         158     158\n",
       " 1         100   100        100         100     100"
      ]
     },
     "execution_count": 7,
     "metadata": {},
     "output_type": "execute_result"
    }
   ],
   "source": [
    "gp_index_count = gp_df.groupby('index').count()\n",
    "gp_sx_count = gp_index_count['created'][-1]\n",
    "gp_center_count = gp_index_count['created'][0]\n",
    "gp_dx_count = gp_index_count['created'][1]\n",
    "gp_index_count"
   ]
  },
  {
   "cell_type": "code",
   "execution_count": 8,
   "metadata": {},
   "outputs": [
    {
     "data": {
      "image/png": "[encoded data removed]",
      "text/plain": [
       "<Figure size 432x288 with 1 Axes>"
      ]
     },
     "metadata": {
      "needs_background": "light"
     },
     "output_type": "display_data"
    }
   ],
   "source": [
    "plt.scatter(gp_df['fav_count'],gp_df['retw_count'], c=gp_df['index'], alpha = 0.6)\n",
    "plt.show()"
   ]
  },
  {
   "cell_type": "markdown",
   "metadata": {},
   "source": [
    "## Migranti DF"
   ]
  },
  {
   "cell_type": "markdown",
   "metadata": {},
   "source": [
    "Raw Migrants table"
   ]
  },
  {
   "cell_type": "code",
   "execution_count": 9,
   "metadata": {},
   "outputs": [
    {
     "data": {
      "text/html": [
       "<div>\n",
       "<style scoped>\n",
       "    .dataframe tbody tr th:only-of-type {\n",
       "        vertical-align: middle;\n",
       "    }\n",
       "\n",
       "    .dataframe tbody tr th {\n",
       "        vertical-align: top;\n",
       "    }\n",
       "\n",
       "    .dataframe thead th {\n",
       "        text-align: right;\n",
       "    }\n",
       "</style>\n",
       "<table border=\"1\" class=\"dataframe\">\n",
       "  <thead>\n",
       "    <tr style=\"text-align: right;\">\n",
       "      <th></th>\n",
       "      <th>created</th>\n",
       "      <th>text</th>\n",
       "      <th>fav_count</th>\n",
       "      <th>retw_count</th>\n",
       "      <th>source</th>\n",
       "      <th>index</th>\n",
       "    </tr>\n",
       "  </thead>\n",
       "  <tbody>\n",
       "    <tr>\n",
       "      <th>0</th>\n",
       "      <td>2021-11-09 07:28:30</td>\n",
       "      <td>La Germania esorta l'Unione europea ad \"agire\"...</td>\n",
       "      <td>75</td>\n",
       "      <td>28</td>\n",
       "      <td>agenzia_ansa</td>\n",
       "      <td>0</td>\n",
       "    </tr>\n",
       "    <tr>\n",
       "      <th>1</th>\n",
       "      <td>2021-11-08 13:16:39</td>\n",
       "      <td>VIDEO | L'esodo dei migranti che ha tentato di...</td>\n",
       "      <td>25</td>\n",
       "      <td>16</td>\n",
       "      <td>agenzia_ansa</td>\n",
       "      <td>0</td>\n",
       "    </tr>\n",
       "    <tr>\n",
       "      <th>2</th>\n",
       "      <td>2021-11-09 09:19:21</td>\n",
       "      <td>Così la #Bielorussia porta i #migranti in Euro...</td>\n",
       "      <td>9</td>\n",
       "      <td>7</td>\n",
       "      <td>agenzia_italia</td>\n",
       "      <td>0</td>\n",
       "    </tr>\n",
       "    <tr>\n",
       "      <th>3</th>\n",
       "      <td>2021-11-08 17:13:53</td>\n",
       "      <td>La crisi al confine polacco con migliaia di #m...</td>\n",
       "      <td>15</td>\n",
       "      <td>9</td>\n",
       "      <td>agenzia_italia</td>\n",
       "      <td>0</td>\n",
       "    </tr>\n",
       "    <tr>\n",
       "      <th>4</th>\n",
       "      <td>2021-11-09 15:41:22</td>\n",
       "      <td>Ue: aggressione da regime illegittimo e disper...</td>\n",
       "      <td>18</td>\n",
       "      <td>8</td>\n",
       "      <td>rainews</td>\n",
       "      <td>0</td>\n",
       "    </tr>\n",
       "    <tr>\n",
       "      <th>...</th>\n",
       "      <td>...</td>\n",
       "      <td>...</td>\n",
       "      <td>...</td>\n",
       "      <td>...</td>\n",
       "      <td>...</td>\n",
       "      <td>...</td>\n",
       "    </tr>\n",
       "    <tr>\n",
       "      <th>219</th>\n",
       "      <td>2021-12-03 17:17:34</td>\n",
       "      <td>Papa Francesco a Cipro: \"I lager ci sono anche...</td>\n",
       "      <td>22</td>\n",
       "      <td>3</td>\n",
       "      <td>repubblica</td>\n",
       "      <td>-1</td>\n",
       "    </tr>\n",
       "    <tr>\n",
       "      <th>220</th>\n",
       "      <td>2021-12-02 18:11:35</td>\n",
       "      <td>RT @eziomauro: Papa Francesco a Cipro e in Gre...</td>\n",
       "      <td>0</td>\n",
       "      <td>1</td>\n",
       "      <td>repubblica</td>\n",
       "      <td>-1</td>\n",
       "    </tr>\n",
       "    <tr>\n",
       "      <th>221</th>\n",
       "      <td>2021-12-03 09:54:41</td>\n",
       "      <td>Stati Uniti e Messico riattivano un programma ...</td>\n",
       "      <td>3</td>\n",
       "      <td>1</td>\n",
       "      <td>internazionale</td>\n",
       "      <td>-1</td>\n",
       "    </tr>\n",
       "    <tr>\n",
       "      <th>222</th>\n",
       "      <td>2021-12-03 08:51:44</td>\n",
       "      <td>[VIDEO] \"Sulla crisi dei migranti serve più co...</td>\n",
       "      <td>3</td>\n",
       "      <td>1</td>\n",
       "      <td>ilfoglio_it</td>\n",
       "      <td>1</td>\n",
       "    </tr>\n",
       "    <tr>\n",
       "      <th>223</th>\n",
       "      <td>2021-12-03 08:51:58</td>\n",
       "      <td>#migranti, Draghi: «Arrivi 6 volte più numeros...</td>\n",
       "      <td>0</td>\n",
       "      <td>0</td>\n",
       "      <td>gazzettino</td>\n",
       "      <td>1</td>\n",
       "    </tr>\n",
       "  </tbody>\n",
       "</table>\n",
       "<p>224 rows × 6 columns</p>\n",
       "</div>"
      ],
      "text/plain": [
       "                 created                                               text  \\\n",
       "0    2021-11-09 07:28:30  La Germania esorta l'Unione europea ad \"agire\"...   \n",
       "1    2021-11-08 13:16:39  VIDEO | L'esodo dei migranti che ha tentato di...   \n",
       "2    2021-11-09 09:19:21  Così la #Bielorussia porta i #migranti in Euro...   \n",
       "3    2021-11-08 17:13:53  La crisi al confine polacco con migliaia di #m...   \n",
       "4    2021-11-09 15:41:22  Ue: aggressione da regime illegittimo e disper...   \n",
       "..                   ...                                                ...   \n",
       "219  2021-12-03 17:17:34  Papa Francesco a Cipro: \"I lager ci sono anche...   \n",
       "220  2021-12-02 18:11:35  RT @eziomauro: Papa Francesco a Cipro e in Gre...   \n",
       "221  2021-12-03 09:54:41  Stati Uniti e Messico riattivano un programma ...   \n",
       "222  2021-12-03 08:51:44  [VIDEO] \"Sulla crisi dei migranti serve più co...   \n",
       "223  2021-12-03 08:51:58  #migranti, Draghi: «Arrivi 6 volte più numeros...   \n",
       "\n",
       "     fav_count  retw_count          source  index  \n",
       "0           75          28    agenzia_ansa      0  \n",
       "1           25          16    agenzia_ansa      0  \n",
       "2            9           7  agenzia_italia      0  \n",
       "3           15           9  agenzia_italia      0  \n",
       "4           18           8         rainews      0  \n",
       "..         ...         ...             ...    ...  \n",
       "219         22           3      repubblica     -1  \n",
       "220          0           1      repubblica     -1  \n",
       "221          3           1  internazionale     -1  \n",
       "222          3           1     ilfoglio_it      1  \n",
       "223          0           0      gazzettino      1  \n",
       "\n",
       "[224 rows x 6 columns]"
      ]
     },
     "execution_count": 9,
     "metadata": {},
     "output_type": "execute_result"
    }
   ],
   "source": [
    "mgr_df = mgr_df.drop(columns=['Unnamed: 0'])\n",
    "mgr_df"
   ]
  },
  {
   "cell_type": "markdown",
   "metadata": {},
   "source": [
    "Tweets count by Index"
   ]
  },
  {
   "cell_type": "code",
   "execution_count": 10,
   "metadata": {},
   "outputs": [
    {
     "data": {
      "text/html": [
       "<div>\n",
       "<style scoped>\n",
       "    .dataframe tbody tr th:only-of-type {\n",
       "        vertical-align: middle;\n",
       "    }\n",
       "\n",
       "    .dataframe tbody tr th {\n",
       "        vertical-align: top;\n",
       "    }\n",
       "\n",
       "    .dataframe thead th {\n",
       "        text-align: right;\n",
       "    }\n",
       "</style>\n",
       "<table border=\"1\" class=\"dataframe\">\n",
       "  <thead>\n",
       "    <tr style=\"text-align: right;\">\n",
       "      <th></th>\n",
       "      <th>created</th>\n",
       "      <th>text</th>\n",
       "      <th>fav_count</th>\n",
       "      <th>retw_count</th>\n",
       "      <th>source</th>\n",
       "    </tr>\n",
       "    <tr>\n",
       "      <th>index</th>\n",
       "      <th></th>\n",
       "      <th></th>\n",
       "      <th></th>\n",
       "      <th></th>\n",
       "      <th></th>\n",
       "    </tr>\n",
       "  </thead>\n",
       "  <tbody>\n",
       "    <tr>\n",
       "      <th>-1</th>\n",
       "      <td>89</td>\n",
       "      <td>89</td>\n",
       "      <td>89</td>\n",
       "      <td>89</td>\n",
       "      <td>89</td>\n",
       "    </tr>\n",
       "    <tr>\n",
       "      <th>0</th>\n",
       "      <td>106</td>\n",
       "      <td>106</td>\n",
       "      <td>106</td>\n",
       "      <td>106</td>\n",
       "      <td>106</td>\n",
       "    </tr>\n",
       "    <tr>\n",
       "      <th>1</th>\n",
       "      <td>29</td>\n",
       "      <td>29</td>\n",
       "      <td>29</td>\n",
       "      <td>29</td>\n",
       "      <td>29</td>\n",
       "    </tr>\n",
       "  </tbody>\n",
       "</table>\n",
       "</div>"
      ],
      "text/plain": [
       "       created  text  fav_count  retw_count  source\n",
       "index                                              \n",
       "-1          89    89         89          89      89\n",
       " 0         106   106        106         106     106\n",
       " 1          29    29         29          29      29"
      ]
     },
     "execution_count": 10,
     "metadata": {},
     "output_type": "execute_result"
    }
   ],
   "source": [
    "mgr_index_count = mgr_df.groupby('index').count()\n",
    "mgr_sx_count = mgr_index_count['created'][-1]\n",
    "mgr_center_count = mgr_index_count['created'][0]\n",
    "mgr_dx_count = mgr_index_count['created'][1]\n",
    "mgr_index_count"
   ]
  },
  {
   "cell_type": "code",
   "execution_count": 11,
   "metadata": {},
   "outputs": [
    {
     "data": {
      "image/png": "[encoded data removed]",
      "text/plain": [
       "<Figure size 432x288 with 1 Axes>"
      ]
     },
     "metadata": {
      "needs_background": "light"
     },
     "output_type": "display_data"
    }
   ],
   "source": [
    "plt.scatter(mgr_df['fav_count'],mgr_df['retw_count'], c=mgr_df['index'], alpha = 0.6)\n",
    "plt.show()"
   ]
  },
  {
   "cell_type": "markdown",
   "metadata": {},
   "source": [
    "# ML stuff"
   ]
  },
  {
   "cell_type": "markdown",
   "metadata": {},
   "source": [
    "## Covid"
   ]
  },
  {
   "cell_type": "code",
   "execution_count": 12,
   "metadata": {},
   "outputs": [
    {
     "name": "stdout",
     "output_type": "stream",
     "text": [
      "Training set:  1591\n",
      "Test set:  398\n"
     ]
    }
   ],
   "source": [
    "covid_text = covid_df[\"text\"].tolist()\n",
    "labels = covid_df['index']\n",
    "\n",
    "train_data, test_data, train_labels, test_labels = train_test_split(covid_text, labels, test_size = 0.2, random_state = 1)\n",
    "\n",
    "print(\"Training set: \",len(train_data))\n",
    "print(\"Test set: \",len(test_data))"
   ]
  },
  {
   "cell_type": "code",
   "execution_count": 13,
   "metadata": {},
   "outputs": [
    {
     "name": "stdout",
     "output_type": "stream",
     "text": [
      "Classifier accuracy:  0.6130653266331658\n",
      "Accuracy test:\n",
      "[[ 43  69   6]\n",
      " [ 12 176   5]\n",
      " [ 22  40  25]]\n"
     ]
    }
   ],
   "source": [
    "counter = CountVectorizer()\n",
    "counter.fit(train_data)\n",
    "train_counts = counter.transform(train_data)\n",
    "test_counts = counter.transform(test_data)\n",
    "\n",
    "classifier = MultinomialNB()\n",
    "classifier.fit(train_counts, train_labels)\n",
    "\n",
    "predictions = classifier.predict(test_counts)\n",
    "print(\"Classifier accuracy: \",accuracy_score(test_labels, predictions))\n",
    "print(\"Accuracy test:\")\n",
    "print(confusion_matrix(test_labels, predictions))"
   ]
  },
  {
   "cell_type": "code",
   "execution_count": 14,
   "metadata": {},
   "outputs": [
    {
     "name": "stdout",
     "output_type": "stream",
     "text": [
      "Predictions:  [ 0 -1  0]\n",
      "Predictions probability: \n",
      "[[0.14623878 0.68398026 0.16978096]\n",
      " [0.46986719 0.20909275 0.32104006]\n",
      " [0.12629549 0.75382217 0.11988235]]\n"
     ]
    }
   ],
   "source": [
    "tweet = 'Il Covid si sta propagando in Europa'\n",
    "tweet2 = 'Il governo dovrebbe fare qualcosa!'\n",
    "tweet3 = 'Le mascherine si sono rivelate un fallimento'\n",
    "tweet_counts = counter.transform([tweet, tweet2, tweet3])\n",
    "print(\"Predictions: \",classifier.predict(tweet_counts))\n",
    "print(\"Predictions probability: \")\n",
    "print(classifier.predict_proba(tweet_counts))"
   ]
  },
  {
   "cell_type": "markdown",
   "metadata": {},
   "source": [
    "## GP"
   ]
  },
  {
   "cell_type": "code",
   "execution_count": 15,
   "metadata": {},
   "outputs": [
    {
     "name": "stdout",
     "output_type": "stream",
     "text": [
      "Training set:  378\n",
      "Test set:  95\n"
     ]
    }
   ],
   "source": [
    "gp_text = gp_df[\"text\"].tolist()\n",
    "labels = gp_df['index']\n",
    "\n",
    "train_data, test_data, train_labels, test_labels = train_test_split(gp_text, labels, test_size = 0.2, random_state = 1)\n",
    "\n",
    "print(\"Training set: \",len(train_data))\n",
    "print(\"Test set: \",len(test_data))"
   ]
  },
  {
   "cell_type": "code",
   "execution_count": 16,
   "metadata": {},
   "outputs": [
    {
     "name": "stdout",
     "output_type": "stream",
     "text": [
      "Classifier accuracy:  0.6105263157894737\n",
      "Accuracy test:\n",
      "[[39  2  5]\n",
      " [13 17  0]\n",
      " [15  2  2]]\n"
     ]
    }
   ],
   "source": [
    "counter = CountVectorizer()\n",
    "counter.fit(train_data)\n",
    "train_counts = counter.transform(train_data)\n",
    "test_counts = counter.transform(test_data)\n",
    "\n",
    "classifier = MultinomialNB()\n",
    "classifier.fit(train_counts, train_labels)\n",
    "\n",
    "predictions = classifier.predict(test_counts)\n",
    "print(\"Classifier accuracy: \",accuracy_score(test_labels, predictions))\n",
    "print(\"Accuracy test:\")\n",
    "print(confusion_matrix(test_labels, predictions))"
   ]
  },
  {
   "cell_type": "code",
   "execution_count": 17,
   "metadata": {},
   "outputs": [
    {
     "name": "stdout",
     "output_type": "stream",
     "text": [
      "Predictions:  [-1 -1 -1]\n",
      "Predictions probability: \n",
      "[[0.66591653 0.23761629 0.09646719]\n",
      " [0.70891494 0.12517664 0.16590842]\n",
      " [0.73502933 0.20368916 0.06128151]]\n"
     ]
    }
   ],
   "source": [
    "tweet = 'Dovrebbero abolire il Green pass!'\n",
    "tweet2 = 'La nuova certificazione ha creato problemi'\n",
    "tweet3 = 'Il Green pass è la soluzione'\n",
    "tweet_counts = counter.transform([tweet, tweet2, tweet3])\n",
    "print(\"Predictions: \",classifier.predict(tweet_counts))\n",
    "print(\"Predictions probability: \")\n",
    "print(classifier.predict_proba(tweet_counts))"
   ]
  },
  {
   "cell_type": "markdown",
   "metadata": {},
   "source": [
    "## Merge"
   ]
  },
  {
   "cell_type": "code",
   "execution_count": 18,
   "metadata": {},
   "outputs": [
    {
     "name": "stdout",
     "output_type": "stream",
     "text": [
      "Training set:  2148\n",
      "Test set:  538\n"
     ]
    }
   ],
   "source": [
    "merge_df = pd.concat([covid_df, gp_df, mgr_df], axis=0)\n",
    "#merge_df = merge_df.drop(columns=['Unnamed: 0'])\n",
    "\n",
    "merge_text = merge_df[\"text\"].tolist()\n",
    "labels = merge_df['index']\n",
    "\n",
    "train_data, test_data, train_labels, test_labels = train_test_split(merge_text, labels, test_size = 0.2, random_state = 1)\n",
    "\n",
    "print(\"Training set: \",len(train_data))\n",
    "print(\"Test set: \",len(test_data))"
   ]
  },
  {
   "cell_type": "code",
   "execution_count": 19,
   "metadata": {},
   "outputs": [],
   "source": [
    "merge_df_sx = merge_df[merge_df[\"index\"]==-1]\n",
    "merge_df_c = merge_df[merge_df[\"index\"]==0]\n",
    "merge_df_dx = merge_df[merge_df[\"index\"]==1]\n",
    "\n",
    "merge_text_sx = merge_df_sx[\"text\"].tolist()\n",
    "merge_text_c = merge_df_c[\"text\"].tolist()\n",
    "merge_text_dx = merge_df_dx[\"text\"].tolist()"
   ]
  },
  {
   "cell_type": "code",
   "execution_count": 20,
   "metadata": {},
   "outputs": [
    {
     "data": {
      "text/html": [
       "<div>\n",
       "<style scoped>\n",
       "    .dataframe tbody tr th:only-of-type {\n",
       "        vertical-align: middle;\n",
       "    }\n",
       "\n",
       "    .dataframe tbody tr th {\n",
       "        vertical-align: top;\n",
       "    }\n",
       "\n",
       "    .dataframe thead th {\n",
       "        text-align: right;\n",
       "    }\n",
       "</style>\n",
       "<table border=\"1\" class=\"dataframe\">\n",
       "  <thead>\n",
       "    <tr style=\"text-align: right;\">\n",
       "      <th></th>\n",
       "      <th>created</th>\n",
       "      <th>text</th>\n",
       "      <th>fav_count</th>\n",
       "      <th>retw_count</th>\n",
       "      <th>source</th>\n",
       "    </tr>\n",
       "    <tr>\n",
       "      <th>index</th>\n",
       "      <th></th>\n",
       "      <th></th>\n",
       "      <th></th>\n",
       "      <th></th>\n",
       "      <th></th>\n",
       "    </tr>\n",
       "  </thead>\n",
       "  <tbody>\n",
       "    <tr>\n",
       "      <th>-1</th>\n",
       "      <td>855</td>\n",
       "      <td>855</td>\n",
       "      <td>855</td>\n",
       "      <td>855</td>\n",
       "      <td>855</td>\n",
       "    </tr>\n",
       "    <tr>\n",
       "      <th>0</th>\n",
       "      <td>1260</td>\n",
       "      <td>1260</td>\n",
       "      <td>1260</td>\n",
       "      <td>1260</td>\n",
       "      <td>1260</td>\n",
       "    </tr>\n",
       "    <tr>\n",
       "      <th>1</th>\n",
       "      <td>571</td>\n",
       "      <td>571</td>\n",
       "      <td>571</td>\n",
       "      <td>571</td>\n",
       "      <td>571</td>\n",
       "    </tr>\n",
       "  </tbody>\n",
       "</table>\n",
       "</div>"
      ],
      "text/plain": [
       "       created  text  fav_count  retw_count  source\n",
       "index                                              \n",
       "-1         855   855        855         855     855\n",
       " 0        1260  1260       1260        1260    1260\n",
       " 1         571   571        571         571     571"
      ]
     },
     "execution_count": 20,
     "metadata": {},
     "output_type": "execute_result"
    }
   ],
   "source": [
    "merge_index_count = merge_df.groupby('index').count()\n",
    "merge_index_count"
   ]
  },
  {
   "cell_type": "code",
   "execution_count": 21,
   "metadata": {},
   "outputs": [
    {
     "name": "stdout",
     "output_type": "stream",
     "text": [
      "Classifier accuracy:  0.6152416356877324\n",
      "Accuracy test:\n",
      "[[ 79  86   9]\n",
      " [ 39 225   5]\n",
      " [ 23  45  27]]\n"
     ]
    }
   ],
   "source": [
    "counter = CountVectorizer()\n",
    "counter.fit(train_data)\n",
    "train_counts = counter.transform(train_data)\n",
    "test_counts = counter.transform(test_data)\n",
    "\n",
    "classifier = MultinomialNB()\n",
    "classifier.fit(train_counts, train_labels)\n",
    "\n",
    "predictions = classifier.predict(test_counts)\n",
    "print(\"Classifier accuracy: \",accuracy_score(test_labels, predictions))\n",
    "print(\"Accuracy test:\")\n",
    "print(confusion_matrix(test_labels, predictions))"
   ]
  },
  {
   "cell_type": "code",
   "execution_count": 22,
   "metadata": {},
   "outputs": [
    {
     "name": "stdout",
     "output_type": "stream",
     "text": [
      "Predictions:  [-1  0  1]\n",
      "Predictions probability: \n",
      "[[0.50993292 0.37016778 0.1198993 ]\n",
      " [0.04054372 0.87135224 0.08810405]\n",
      " [0.31829665 0.27790071 0.40380264]]\n"
     ]
    }
   ],
   "source": [
    "tweet = 'Dovrebbero abolire il Green pass!'\n",
    "tweet2 = 'Oggi sono stati riportati 500 nuovi casi di Covid'\n",
    "tweet3 = 'Viva la destra!'\n",
    "tweet_counts = counter.transform([tweet, tweet2, tweet3])\n",
    "print(\"Predictions: \",classifier.predict(tweet_counts))\n",
    "print(\"Predictions probability: \")\n",
    "print(classifier.predict_proba(tweet_counts))"
   ]
  },
  {
   "cell_type": "markdown",
   "metadata": {},
   "source": [
    "# Wordcount"
   ]
  },
  {
   "cell_type": "markdown",
   "metadata": {},
   "source": [
    "Wordcount SX"
   ]
  },
  {
   "cell_type": "code",
   "execution_count": null,
   "metadata": {},
   "outputs": [],
   "source": [
    "emptySX = ''\n",
    "walltextSX = emptySX.join(merge_text_sx)\n",
    "splittedSX = walltextSX.split()\n",
    "sx = Counter(splittedSX)\n",
    "sx.most_common()"
   ]
  },
  {
   "cell_type": "markdown",
   "metadata": {},
   "source": [
    "Wordcount Centro"
   ]
  },
  {
   "cell_type": "code",
   "execution_count": null,
   "metadata": {},
   "outputs": [],
   "source": [
    "emptyC = ''\n",
    "walltextC = emptyC.join(merge_text_c)\n",
    "splittedC = walltextC.split()\n",
    "c = Counter(splittedC)\n",
    "c.most_common()"
   ]
  },
  {
   "cell_type": "markdown",
   "metadata": {},
   "source": [
    "Wordcount DX"
   ]
  },
  {
   "cell_type": "code",
   "execution_count": null,
   "metadata": {},
   "outputs": [],
   "source": [
    "emptyDX = ''\n",
    "walltextDX = emptyDX.join(merge_text_dx)\n",
    "splittedDX = walltextDX.split()\n",
    "dx = Counter(splittedDX)\n",
    "dx.most_common()"
   ]
  },
  {
   "cell_type": "markdown",
   "metadata": {},
   "source": [
    "Wordcount recap"
   ]
  },
  {
   "cell_type": "code",
   "execution_count": 26,
   "metadata": {},
   "outputs": [],
   "source": [
    "wcSX = {'Covid':254, 'pass':220, 'Green':165, 'migranti':69, 'casi':65, 'contagi':58, 'morti':55, 'Italia':54, 'bollettino':38, 'positivi':36}\n",
    "wcC = {'Covid':185, 'pass':183, 'Green':146, 'Italia':100, 'oggi':96, 'contagi':90, 'casi':81, 'migranti':65, 'vaccino':63, 'positivi':53}\n",
    "wcDX = {'Covid':144, 'pass':88, 'Green':58, 'contagi':58, 'novembre':50, 'Veneto':39, 'vax':33, 'bollettino':32, 'positivi':31, 'morti':30}\n",
    "\n",
    "wcSum = {'Covid': 583, 'pass': 491, 'Green': 368, 'contagi': 206, 'Italia': 154, 'casi': 146, 'migranti': 134, 'positivi': 120, 'oggi': 96, 'morti': 85}"
   ]
  },
  {
   "cell_type": "markdown",
   "metadata": {},
   "source": [
    "Creating Wordclouds based on political standings, overall included"
   ]
  },
  {
   "cell_type": "code",
   "execution_count": 27,
   "metadata": {},
   "outputs": [
    {
     "data": {
      "text/plain": [
       "<matplotlib.image.AxesImage at 0x247daee1e80>"
      ]
     },
     "execution_count": 27,
     "metadata": {},
     "output_type": "execute_result"
    },
    {
     "data": {
      "image/png": "[encoded data removed]",
      "text/plain": [
       "<Figure size 432x288 with 1 Axes>"
      ]
     },
     "metadata": {
      "needs_background": "light"
     },
     "output_type": "display_data"
    }
   ],
   "source": [
    "from wordcloud import WordCloud\n",
    "\n",
    "wc_SX = WordCloud(background_color=\"black\",width=3000,height=2000, max_words=10,relative_scaling=0.5,normalize_plurals=False).generate_from_frequencies(wcSX)\n",
    "plt.axis('off')\n",
    "plt.title('Wordcloud SX')\n",
    "plt.imshow(wc_SX)"
   ]
  },
  {
   "cell_type": "code",
   "execution_count": 28,
   "metadata": {},
   "outputs": [
    {
     "data": {
      "text/plain": [
       "<matplotlib.image.AxesImage at 0x247dc099850>"
      ]
     },
     "execution_count": 28,
     "metadata": {},
     "output_type": "execute_result"
    },
    {
     "data": {
      "image/png": "[encoded data removed]",
      "text/plain": [
       "<Figure size 432x288 with 1 Axes>"
      ]
     },
     "metadata": {
      "needs_background": "light"
     },
     "output_type": "display_data"
    }
   ],
   "source": [
    "wc_C = WordCloud(background_color=\"black\",width=3000,height=2000, max_words=10,relative_scaling=0.5,normalize_plurals=False).generate_from_frequencies(wcC)\n",
    "plt.axis('off')\n",
    "plt.title('Wordcloud Centro')\n",
    "plt.imshow(wc_C)"
   ]
  },
  {
   "cell_type": "code",
   "execution_count": 29,
   "metadata": {},
   "outputs": [
    {
     "data": {
      "text/plain": [
       "<matplotlib.image.AxesImage at 0x247dc0f0f10>"
      ]
     },
     "execution_count": 29,
     "metadata": {},
     "output_type": "execute_result"
    },
    {
     "data": {
      "image/png": "[encoded data removed]",
      "text/plain": [
       "<Figure size 432x288 with 1 Axes>"
      ]
     },
     "metadata": {
      "needs_background": "light"
     },
     "output_type": "display_data"
    }
   ],
   "source": [
    "wc_DX = WordCloud(background_color=\"black\",width=3000,height=2000, max_words=10,relative_scaling=0.5,normalize_plurals=False).generate_from_frequencies(wcDX)\n",
    "plt.axis('off')\n",
    "plt.title('Wordcloud DX')\n",
    "plt.imshow(wc_DX)"
   ]
  },
  {
   "cell_type": "code",
   "execution_count": 30,
   "metadata": {},
   "outputs": [
    {
     "data": {
      "text/plain": [
       "<matplotlib.image.AxesImage at 0x247dc14f5e0>"
      ]
     },
     "execution_count": 30,
     "metadata": {},
     "output_type": "execute_result"
    },
    {
     "data": {
      "image/png": "[encoded data removed]",
      "text/plain": [
       "<Figure size 432x288 with 1 Axes>"
      ]
     },
     "metadata": {
      "needs_background": "light"
     },
     "output_type": "display_data"
    }
   ],
   "source": [
    "wc_Sum = WordCloud(background_color=\"black\",width=3000,height=2000, max_words=10,relative_scaling=0.5,normalize_plurals=False).generate_from_frequencies(wcSum)\n",
    "plt.axis('off')\n",
    "plt.title('Wordcloud complessiva')\n",
    "plt.imshow(wc_Sum)"
   ]
  },
  {
   "cell_type": "markdown",
   "metadata": {},
   "source": [
    "# Activity"
   ]
  },
  {
   "cell_type": "markdown",
   "metadata": {},
   "source": [
    "Number of total Tweets by source"
   ]
  },
  {
   "cell_type": "code",
   "execution_count": 31,
   "metadata": {},
   "outputs": [
    {
     "data": {
      "text/html": [
       "<div>\n",
       "<style scoped>\n",
       "    .dataframe tbody tr th:only-of-type {\n",
       "        vertical-align: middle;\n",
       "    }\n",
       "\n",
       "    .dataframe tbody tr th {\n",
       "        vertical-align: top;\n",
       "    }\n",
       "\n",
       "    .dataframe thead th {\n",
       "        text-align: right;\n",
       "    }\n",
       "</style>\n",
       "<table border=\"1\" class=\"dataframe\">\n",
       "  <thead>\n",
       "    <tr style=\"text-align: right;\">\n",
       "      <th></th>\n",
       "      <th>index</th>\n",
       "    </tr>\n",
       "    <tr>\n",
       "      <th>source</th>\n",
       "      <th></th>\n",
       "    </tr>\n",
       "  </thead>\n",
       "  <tbody>\n",
       "    <tr>\n",
       "      <th>adnkronos</th>\n",
       "      <td>430</td>\n",
       "    </tr>\n",
       "    <tr>\n",
       "      <th>agenzia_ansa</th>\n",
       "      <td>157</td>\n",
       "    </tr>\n",
       "    <tr>\n",
       "      <th>agenzia_italia</th>\n",
       "      <td>28</td>\n",
       "    </tr>\n",
       "    <tr>\n",
       "      <th>avvenire_nei</th>\n",
       "      <td>40</td>\n",
       "    </tr>\n",
       "    <tr>\n",
       "      <th>corriere</th>\n",
       "      <td>60</td>\n",
       "    </tr>\n",
       "    <tr>\n",
       "      <th>fattoquotidiano</th>\n",
       "      <td>138</td>\n",
       "    </tr>\n",
       "    <tr>\n",
       "      <th>gazzettino</th>\n",
       "      <td>185</td>\n",
       "    </tr>\n",
       "    <tr>\n",
       "      <th>huffpostitalia</th>\n",
       "      <td>127</td>\n",
       "    </tr>\n",
       "    <tr>\n",
       "      <th>ilfoglio_it</th>\n",
       "      <td>44</td>\n",
       "    </tr>\n",
       "    <tr>\n",
       "      <th>ilgiornale</th>\n",
       "      <td>50</td>\n",
       "    </tr>\n",
       "    <tr>\n",
       "      <th>ilmanifesto</th>\n",
       "      <td>11</td>\n",
       "    </tr>\n",
       "    <tr>\n",
       "      <th>ilmessaggeroit</th>\n",
       "      <td>181</td>\n",
       "    </tr>\n",
       "    <tr>\n",
       "      <th>ilpost</th>\n",
       "      <td>27</td>\n",
       "    </tr>\n",
       "    <tr>\n",
       "      <th>ilriformista</th>\n",
       "      <td>28</td>\n",
       "    </tr>\n",
       "    <tr>\n",
       "      <th>internazionale</th>\n",
       "      <td>14</td>\n",
       "    </tr>\n",
       "    <tr>\n",
       "      <th>lastampa</th>\n",
       "      <td>146</td>\n",
       "    </tr>\n",
       "    <tr>\n",
       "      <th>laveritaweb</th>\n",
       "      <td>8</td>\n",
       "    </tr>\n",
       "    <tr>\n",
       "      <th>libero_official</th>\n",
       "      <td>51</td>\n",
       "    </tr>\n",
       "    <tr>\n",
       "      <th>mattinodinapoli</th>\n",
       "      <td>64</td>\n",
       "    </tr>\n",
       "    <tr>\n",
       "      <th>mediasettgcom24</th>\n",
       "      <td>417</td>\n",
       "    </tr>\n",
       "    <tr>\n",
       "      <th>qn_carlino</th>\n",
       "      <td>82</td>\n",
       "    </tr>\n",
       "    <tr>\n",
       "      <th>qn_giorno</th>\n",
       "      <td>65</td>\n",
       "    </tr>\n",
       "    <tr>\n",
       "      <th>qn_lanazione</th>\n",
       "      <td>86</td>\n",
       "    </tr>\n",
       "    <tr>\n",
       "      <th>rainews</th>\n",
       "      <td>37</td>\n",
       "    </tr>\n",
       "    <tr>\n",
       "      <th>repubblica</th>\n",
       "      <td>210</td>\n",
       "    </tr>\n",
       "  </tbody>\n",
       "</table>\n",
       "</div>"
      ],
      "text/plain": [
       "                 index\n",
       "source                \n",
       "adnkronos          430\n",
       "agenzia_ansa       157\n",
       "agenzia_italia      28\n",
       "avvenire_nei        40\n",
       "corriere            60\n",
       "fattoquotidiano    138\n",
       "gazzettino         185\n",
       "huffpostitalia     127\n",
       "ilfoglio_it         44\n",
       "ilgiornale          50\n",
       "ilmanifesto         11\n",
       "ilmessaggeroit     181\n",
       "ilpost              27\n",
       "ilriformista        28\n",
       "internazionale      14\n",
       "lastampa           146\n",
       "laveritaweb          8\n",
       "libero_official     51\n",
       "mattinodinapoli     64\n",
       "mediasettgcom24    417\n",
       "qn_carlino          82\n",
       "qn_giorno           65\n",
       "qn_lanazione        86\n",
       "rainews             37\n",
       "repubblica         210"
      ]
     },
     "execution_count": 31,
     "metadata": {},
     "output_type": "execute_result"
    }
   ],
   "source": [
    "df_activity = pd.DataFrame(merge_df, columns=[\"source\",\"index\"])\n",
    "merge_activity = df_activity.groupby('source').count()\n",
    "merge_activity.sort_values(by=['source'], ascending=True)"
   ]
  },
  {
   "cell_type": "markdown",
   "metadata": {},
   "source": [
    "Total sum of Favourite counts by source"
   ]
  },
  {
   "cell_type": "code",
   "execution_count": 32,
   "metadata": {},
   "outputs": [
    {
     "data": {
      "text/plain": [
       "source\n",
       "adnkronos           8320\n",
       "agenzia_ansa        8767\n",
       "agenzia_italia       210\n",
       "avvenire_nei         958\n",
       "corriere            2481\n",
       "fattoquotidiano     3737\n",
       "gazzettino           151\n",
       "huffpostitalia      7976\n",
       "ilfoglio_it          605\n",
       "ilgiornale           436\n",
       "ilmanifesto          345\n",
       "ilmessaggeroit       980\n",
       "ilpost               575\n",
       "ilriformista         218\n",
       "internazionale       183\n",
       "lastampa            2432\n",
       "laveritaweb         2345\n",
       "libero_official     1887\n",
       "mattinodinapoli      262\n",
       "mediasettgcom24    13551\n",
       "qn_carlino            29\n",
       "qn_giorno             99\n",
       "qn_lanazione          51\n",
       "rainews              609\n",
       "repubblica          3689\n",
       "Name: fav_count, dtype: int64"
      ]
     },
     "execution_count": 32,
     "metadata": {},
     "output_type": "execute_result"
    }
   ],
   "source": [
    "fc_activity = merge_df.groupby('source')[\"fav_count\"].sum()\n",
    "fc_activity"
   ]
  },
  {
   "cell_type": "code",
   "execution_count": 33,
   "metadata": {},
   "outputs": [
    {
     "name": "stdout",
     "output_type": "stream",
     "text": [
      "[8320, 8767, 210, 958, 2481, 3737, 151, 7976, 605, 436, 345, 980, 575, 218, 183, 2432, 2345, 1887, 262, 13551, 29, 99, 51, 609, 3689]\n"
     ]
    }
   ],
   "source": [
    "fav_activity = fc_activity.tolist()\n",
    "print(fav_activity)"
   ]
  },
  {
   "cell_type": "markdown",
   "metadata": {},
   "source": [
    "Total sum of Retweet counts by source"
   ]
  },
  {
   "cell_type": "code",
   "execution_count": 34,
   "metadata": {},
   "outputs": [
    {
     "data": {
      "text/plain": [
       "source\n",
       "adnkronos          3143\n",
       "agenzia_ansa       2768\n",
       "agenzia_italia      120\n",
       "avvenire_nei        399\n",
       "corriere            506\n",
       "fattoquotidiano    1903\n",
       "gazzettino           80\n",
       "huffpostitalia     1956\n",
       "ilfoglio_it         165\n",
       "ilgiornale          120\n",
       "ilmanifesto         156\n",
       "ilmessaggeroit      535\n",
       "ilpost              135\n",
       "ilriformista        104\n",
       "internazionale       74\n",
       "lastampa            711\n",
       "laveritaweb         871\n",
       "libero_official     569\n",
       "mattinodinapoli      66\n",
       "mediasettgcom24    3590\n",
       "qn_carlino           32\n",
       "qn_giorno            41\n",
       "qn_lanazione         30\n",
       "rainews             266\n",
       "repubblica         1335\n",
       "Name: retw_count, dtype: int64"
      ]
     },
     "execution_count": 34,
     "metadata": {},
     "output_type": "execute_result"
    }
   ],
   "source": [
    "rc_activity = merge_df.groupby('source')[\"retw_count\"].sum()\n",
    "rc_activity"
   ]
  },
  {
   "cell_type": "code",
   "execution_count": 35,
   "metadata": {},
   "outputs": [
    {
     "name": "stdout",
     "output_type": "stream",
     "text": [
      "[3143, 2768, 120, 399, 506, 1903, 80, 1956, 165, 120, 156, 535, 135, 104, 74, 711, 871, 569, 66, 3590, 32, 41, 30, 266, 1335]\n"
     ]
    }
   ],
   "source": [
    "retw_activity = rc_activity.tolist()\n",
    "print(retw_activity)"
   ]
  },
  {
   "cell_type": "markdown",
   "metadata": {},
   "source": [
    "Retrieving followers, sources index and activity data for the big following table"
   ]
  },
  {
   "cell_type": "code",
   "execution_count": 36,
   "metadata": {},
   "outputs": [],
   "source": [
    "followers_list = [{\"adnkronos\":578989, \"agenzia_ansa\":1700000, \"agenzia_italia\":241421, \"avvenire_nei\":101422, \"corriere\":2500000, \"fattoquotidiano\":2100000, \"gazzettino\":70693, \"huffpostitalia\":630162, \"ilfoglio_it\":251246, \"ilgiornale\":567738, \"ilmanifesto\":205146, \"ilmessaggeroit\": 494178, \"ilpost\":700184, \"ilriformista\":22699, \"internazionale\":1300000, \"lastampa\":1200000, \"laveritaweb\":175641, \"libero_official\":314275, \"mattinodinapoli\":275058, \"mediasettgcom24\":1300000, \"qn_carlino\":53983, \"qn_giorno\":15418, \"qn_lanazione\":60602, \"rainews\":1200000, \"repubblica\":3300000}]\n",
    "fw_list = [578989,1700000,241421,101422,2500000,2100000,70693,630162,251246,567738,205146,494178,700184,22699,1300000,1200000,175641,314275,275058,1300000,53983,15418,60602,1200000,3300000]\n",
    "index_q = [0,0,0,1,0,-1,1,-1,1,1,-1,-1,0,-1,-1,-1,1,1,0,0,1,1,1,0,-1]"
   ]
  },
  {
   "cell_type": "code",
   "execution_count": 37,
   "metadata": {},
   "outputs": [],
   "source": [
    "merge_activity['fav_count sum'] = fav_activity\n",
    "merge_activity['retw_count sum'] = retw_activity\n",
    "merge_activity['followers count'] = fw_list\n",
    "merge_activity.rename(columns = {'index':'tweet count'}, inplace = True)"
   ]
  },
  {
   "cell_type": "code",
   "execution_count": 38,
   "metadata": {},
   "outputs": [],
   "source": [
    "interaction = []\n",
    "for i in range(0,25):\n",
    "    calc = (merge_activity['fav_count sum'][i]+merge_activity['retw_count sum'][i])/merge_activity['tweet count'][i]\n",
    "    interaction.append(calc)\n",
    "\n",
    "merge_activity['interaction'] = interaction\n",
    "merge_activity['index'] = index_q"
   ]
  },
  {
   "cell_type": "markdown",
   "metadata": {},
   "source": [
    "Activity report"
   ]
  },
  {
   "cell_type": "code",
   "execution_count": 39,
   "metadata": {},
   "outputs": [
    {
     "data": {
      "text/html": [
       "<div>\n",
       "<style scoped>\n",
       "    .dataframe tbody tr th:only-of-type {\n",
       "        vertical-align: middle;\n",
       "    }\n",
       "\n",
       "    .dataframe tbody tr th {\n",
       "        vertical-align: top;\n",
       "    }\n",
       "\n",
       "    .dataframe thead th {\n",
       "        text-align: right;\n",
       "    }\n",
       "</style>\n",
       "<table border=\"1\" class=\"dataframe\">\n",
       "  <thead>\n",
       "    <tr style=\"text-align: right;\">\n",
       "      <th></th>\n",
       "      <th>tweet count</th>\n",
       "      <th>fav_count sum</th>\n",
       "      <th>retw_count sum</th>\n",
       "      <th>followers count</th>\n",
       "      <th>interaction</th>\n",
       "      <th>index</th>\n",
       "    </tr>\n",
       "    <tr>\n",
       "      <th>source</th>\n",
       "      <th></th>\n",
       "      <th></th>\n",
       "      <th></th>\n",
       "      <th></th>\n",
       "      <th></th>\n",
       "      <th></th>\n",
       "    </tr>\n",
       "  </thead>\n",
       "  <tbody>\n",
       "    <tr>\n",
       "      <th>laveritaweb</th>\n",
       "      <td>8</td>\n",
       "      <td>2345</td>\n",
       "      <td>871</td>\n",
       "      <td>175641</td>\n",
       "      <td>402.000000</td>\n",
       "      <td>1</td>\n",
       "    </tr>\n",
       "    <tr>\n",
       "      <th>huffpostitalia</th>\n",
       "      <td>127</td>\n",
       "      <td>7976</td>\n",
       "      <td>1956</td>\n",
       "      <td>630162</td>\n",
       "      <td>78.204724</td>\n",
       "      <td>-1</td>\n",
       "    </tr>\n",
       "    <tr>\n",
       "      <th>agenzia_ansa</th>\n",
       "      <td>157</td>\n",
       "      <td>8767</td>\n",
       "      <td>2768</td>\n",
       "      <td>1700000</td>\n",
       "      <td>73.471338</td>\n",
       "      <td>0</td>\n",
       "    </tr>\n",
       "    <tr>\n",
       "      <th>corriere</th>\n",
       "      <td>60</td>\n",
       "      <td>2481</td>\n",
       "      <td>506</td>\n",
       "      <td>2500000</td>\n",
       "      <td>49.783333</td>\n",
       "      <td>0</td>\n",
       "    </tr>\n",
       "    <tr>\n",
       "      <th>libero_official</th>\n",
       "      <td>51</td>\n",
       "      <td>1887</td>\n",
       "      <td>569</td>\n",
       "      <td>314275</td>\n",
       "      <td>48.156863</td>\n",
       "      <td>1</td>\n",
       "    </tr>\n",
       "    <tr>\n",
       "      <th>ilmanifesto</th>\n",
       "      <td>11</td>\n",
       "      <td>345</td>\n",
       "      <td>156</td>\n",
       "      <td>205146</td>\n",
       "      <td>45.545455</td>\n",
       "      <td>-1</td>\n",
       "    </tr>\n",
       "    <tr>\n",
       "      <th>mediasettgcom24</th>\n",
       "      <td>417</td>\n",
       "      <td>13551</td>\n",
       "      <td>3590</td>\n",
       "      <td>1300000</td>\n",
       "      <td>41.105516</td>\n",
       "      <td>0</td>\n",
       "    </tr>\n",
       "    <tr>\n",
       "      <th>fattoquotidiano</th>\n",
       "      <td>138</td>\n",
       "      <td>3737</td>\n",
       "      <td>1903</td>\n",
       "      <td>2100000</td>\n",
       "      <td>40.869565</td>\n",
       "      <td>-1</td>\n",
       "    </tr>\n",
       "    <tr>\n",
       "      <th>avvenire_nei</th>\n",
       "      <td>40</td>\n",
       "      <td>958</td>\n",
       "      <td>399</td>\n",
       "      <td>101422</td>\n",
       "      <td>33.925000</td>\n",
       "      <td>1</td>\n",
       "    </tr>\n",
       "    <tr>\n",
       "      <th>adnkronos</th>\n",
       "      <td>430</td>\n",
       "      <td>8320</td>\n",
       "      <td>3143</td>\n",
       "      <td>578989</td>\n",
       "      <td>26.658140</td>\n",
       "      <td>0</td>\n",
       "    </tr>\n",
       "    <tr>\n",
       "      <th>ilpost</th>\n",
       "      <td>27</td>\n",
       "      <td>575</td>\n",
       "      <td>135</td>\n",
       "      <td>700184</td>\n",
       "      <td>26.296296</td>\n",
       "      <td>0</td>\n",
       "    </tr>\n",
       "    <tr>\n",
       "      <th>repubblica</th>\n",
       "      <td>210</td>\n",
       "      <td>3689</td>\n",
       "      <td>1335</td>\n",
       "      <td>3300000</td>\n",
       "      <td>23.923810</td>\n",
       "      <td>-1</td>\n",
       "    </tr>\n",
       "    <tr>\n",
       "      <th>rainews</th>\n",
       "      <td>37</td>\n",
       "      <td>609</td>\n",
       "      <td>266</td>\n",
       "      <td>1200000</td>\n",
       "      <td>23.648649</td>\n",
       "      <td>0</td>\n",
       "    </tr>\n",
       "    <tr>\n",
       "      <th>lastampa</th>\n",
       "      <td>146</td>\n",
       "      <td>2432</td>\n",
       "      <td>711</td>\n",
       "      <td>1200000</td>\n",
       "      <td>21.527397</td>\n",
       "      <td>-1</td>\n",
       "    </tr>\n",
       "    <tr>\n",
       "      <th>internazionale</th>\n",
       "      <td>14</td>\n",
       "      <td>183</td>\n",
       "      <td>74</td>\n",
       "      <td>1300000</td>\n",
       "      <td>18.357143</td>\n",
       "      <td>-1</td>\n",
       "    </tr>\n",
       "    <tr>\n",
       "      <th>ilfoglio_it</th>\n",
       "      <td>44</td>\n",
       "      <td>605</td>\n",
       "      <td>165</td>\n",
       "      <td>251246</td>\n",
       "      <td>17.500000</td>\n",
       "      <td>1</td>\n",
       "    </tr>\n",
       "    <tr>\n",
       "      <th>agenzia_italia</th>\n",
       "      <td>28</td>\n",
       "      <td>210</td>\n",
       "      <td>120</td>\n",
       "      <td>241421</td>\n",
       "      <td>11.785714</td>\n",
       "      <td>0</td>\n",
       "    </tr>\n",
       "    <tr>\n",
       "      <th>ilriformista</th>\n",
       "      <td>28</td>\n",
       "      <td>218</td>\n",
       "      <td>104</td>\n",
       "      <td>22699</td>\n",
       "      <td>11.500000</td>\n",
       "      <td>-1</td>\n",
       "    </tr>\n",
       "    <tr>\n",
       "      <th>ilgiornale</th>\n",
       "      <td>50</td>\n",
       "      <td>436</td>\n",
       "      <td>120</td>\n",
       "      <td>567738</td>\n",
       "      <td>11.120000</td>\n",
       "      <td>1</td>\n",
       "    </tr>\n",
       "    <tr>\n",
       "      <th>ilmessaggeroit</th>\n",
       "      <td>181</td>\n",
       "      <td>980</td>\n",
       "      <td>535</td>\n",
       "      <td>494178</td>\n",
       "      <td>8.370166</td>\n",
       "      <td>-1</td>\n",
       "    </tr>\n",
       "    <tr>\n",
       "      <th>mattinodinapoli</th>\n",
       "      <td>64</td>\n",
       "      <td>262</td>\n",
       "      <td>66</td>\n",
       "      <td>275058</td>\n",
       "      <td>5.125000</td>\n",
       "      <td>0</td>\n",
       "    </tr>\n",
       "    <tr>\n",
       "      <th>qn_giorno</th>\n",
       "      <td>65</td>\n",
       "      <td>99</td>\n",
       "      <td>41</td>\n",
       "      <td>15418</td>\n",
       "      <td>2.153846</td>\n",
       "      <td>1</td>\n",
       "    </tr>\n",
       "    <tr>\n",
       "      <th>gazzettino</th>\n",
       "      <td>185</td>\n",
       "      <td>151</td>\n",
       "      <td>80</td>\n",
       "      <td>70693</td>\n",
       "      <td>1.248649</td>\n",
       "      <td>1</td>\n",
       "    </tr>\n",
       "    <tr>\n",
       "      <th>qn_lanazione</th>\n",
       "      <td>86</td>\n",
       "      <td>51</td>\n",
       "      <td>30</td>\n",
       "      <td>60602</td>\n",
       "      <td>0.941860</td>\n",
       "      <td>1</td>\n",
       "    </tr>\n",
       "    <tr>\n",
       "      <th>qn_carlino</th>\n",
       "      <td>82</td>\n",
       "      <td>29</td>\n",
       "      <td>32</td>\n",
       "      <td>53983</td>\n",
       "      <td>0.743902</td>\n",
       "      <td>1</td>\n",
       "    </tr>\n",
       "  </tbody>\n",
       "</table>\n",
       "</div>"
      ],
      "text/plain": [
       "                 tweet count  fav_count sum  retw_count sum  followers count  \\\n",
       "source                                                                         \n",
       "laveritaweb                8           2345             871           175641   \n",
       "huffpostitalia           127           7976            1956           630162   \n",
       "agenzia_ansa             157           8767            2768          1700000   \n",
       "corriere                  60           2481             506          2500000   \n",
       "libero_official           51           1887             569           314275   \n",
       "ilmanifesto               11            345             156           205146   \n",
       "mediasettgcom24          417          13551            3590          1300000   \n",
       "fattoquotidiano          138           3737            1903          2100000   \n",
       "avvenire_nei              40            958             399           101422   \n",
       "adnkronos                430           8320            3143           578989   \n",
       "ilpost                    27            575             135           700184   \n",
       "repubblica               210           3689            1335          3300000   \n",
       "rainews                   37            609             266          1200000   \n",
       "lastampa                 146           2432             711          1200000   \n",
       "internazionale            14            183              74          1300000   \n",
       "ilfoglio_it               44            605             165           251246   \n",
       "agenzia_italia            28            210             120           241421   \n",
       "ilriformista              28            218             104            22699   \n",
       "ilgiornale                50            436             120           567738   \n",
       "ilmessaggeroit           181            980             535           494178   \n",
       "mattinodinapoli           64            262              66           275058   \n",
       "qn_giorno                 65             99              41            15418   \n",
       "gazzettino               185            151              80            70693   \n",
       "qn_lanazione              86             51              30            60602   \n",
       "qn_carlino                82             29              32            53983   \n",
       "\n",
       "                 interaction  index  \n",
       "source                               \n",
       "laveritaweb       402.000000      1  \n",
       "huffpostitalia     78.204724     -1  \n",
       "agenzia_ansa       73.471338      0  \n",
       "corriere           49.783333      0  \n",
       "libero_official    48.156863      1  \n",
       "ilmanifesto        45.545455     -1  \n",
       "mediasettgcom24    41.105516      0  \n",
       "fattoquotidiano    40.869565     -1  \n",
       "avvenire_nei       33.925000      1  \n",
       "adnkronos          26.658140      0  \n",
       "ilpost             26.296296      0  \n",
       "repubblica         23.923810     -1  \n",
       "rainews            23.648649      0  \n",
       "lastampa           21.527397     -1  \n",
       "internazionale     18.357143     -1  \n",
       "ilfoglio_it        17.500000      1  \n",
       "agenzia_italia     11.785714      0  \n",
       "ilriformista       11.500000     -1  \n",
       "ilgiornale         11.120000      1  \n",
       "ilmessaggeroit      8.370166     -1  \n",
       "mattinodinapoli     5.125000      0  \n",
       "qn_giorno           2.153846      1  \n",
       "gazzettino          1.248649      1  \n",
       "qn_lanazione        0.941860      1  \n",
       "qn_carlino          0.743902      1  "
      ]
     },
     "execution_count": 39,
     "metadata": {},
     "output_type": "execute_result"
    }
   ],
   "source": [
    "merge_activity.sort_values(by=['interaction'], ascending=False)"
   ]
  },
  {
   "cell_type": "markdown",
   "metadata": {},
   "source": [
    "Activity report by Index"
   ]
  },
  {
   "cell_type": "code",
   "execution_count": 40,
   "metadata": {},
   "outputs": [],
   "source": [
    "totSX = merge_activity[merge_activity[\"index\"]==-1]\n",
    "totC = merge_activity[merge_activity[\"index\"]==0]\n",
    "totDX = merge_activity[merge_activity[\"index\"]==1]"
   ]
  },
  {
   "cell_type": "code",
   "execution_count": 41,
   "metadata": {},
   "outputs": [
    {
     "data": {
      "text/html": [
       "<div>\n",
       "<style scoped>\n",
       "    .dataframe tbody tr th:only-of-type {\n",
       "        vertical-align: middle;\n",
       "    }\n",
       "\n",
       "    .dataframe tbody tr th {\n",
       "        vertical-align: top;\n",
       "    }\n",
       "\n",
       "    .dataframe thead th {\n",
       "        text-align: right;\n",
       "    }\n",
       "</style>\n",
       "<table border=\"1\" class=\"dataframe\">\n",
       "  <thead>\n",
       "    <tr style=\"text-align: right;\">\n",
       "      <th></th>\n",
       "      <th>tweet count</th>\n",
       "      <th>fav_count sum</th>\n",
       "      <th>retw_count sum</th>\n",
       "      <th>followers count</th>\n",
       "      <th>interaction</th>\n",
       "      <th>index</th>\n",
       "    </tr>\n",
       "    <tr>\n",
       "      <th>source</th>\n",
       "      <th></th>\n",
       "      <th></th>\n",
       "      <th></th>\n",
       "      <th></th>\n",
       "      <th></th>\n",
       "      <th></th>\n",
       "    </tr>\n",
       "  </thead>\n",
       "  <tbody>\n",
       "    <tr>\n",
       "      <th>huffpostitalia</th>\n",
       "      <td>127</td>\n",
       "      <td>7976</td>\n",
       "      <td>1956</td>\n",
       "      <td>630162</td>\n",
       "      <td>78.204724</td>\n",
       "      <td>-1</td>\n",
       "    </tr>\n",
       "    <tr>\n",
       "      <th>ilmanifesto</th>\n",
       "      <td>11</td>\n",
       "      <td>345</td>\n",
       "      <td>156</td>\n",
       "      <td>205146</td>\n",
       "      <td>45.545455</td>\n",
       "      <td>-1</td>\n",
       "    </tr>\n",
       "    <tr>\n",
       "      <th>fattoquotidiano</th>\n",
       "      <td>138</td>\n",
       "      <td>3737</td>\n",
       "      <td>1903</td>\n",
       "      <td>2100000</td>\n",
       "      <td>40.869565</td>\n",
       "      <td>-1</td>\n",
       "    </tr>\n",
       "    <tr>\n",
       "      <th>repubblica</th>\n",
       "      <td>210</td>\n",
       "      <td>3689</td>\n",
       "      <td>1335</td>\n",
       "      <td>3300000</td>\n",
       "      <td>23.923810</td>\n",
       "      <td>-1</td>\n",
       "    </tr>\n",
       "    <tr>\n",
       "      <th>lastampa</th>\n",
       "      <td>146</td>\n",
       "      <td>2432</td>\n",
       "      <td>711</td>\n",
       "      <td>1200000</td>\n",
       "      <td>21.527397</td>\n",
       "      <td>-1</td>\n",
       "    </tr>\n",
       "    <tr>\n",
       "      <th>internazionale</th>\n",
       "      <td>14</td>\n",
       "      <td>183</td>\n",
       "      <td>74</td>\n",
       "      <td>1300000</td>\n",
       "      <td>18.357143</td>\n",
       "      <td>-1</td>\n",
       "    </tr>\n",
       "    <tr>\n",
       "      <th>ilriformista</th>\n",
       "      <td>28</td>\n",
       "      <td>218</td>\n",
       "      <td>104</td>\n",
       "      <td>22699</td>\n",
       "      <td>11.500000</td>\n",
       "      <td>-1</td>\n",
       "    </tr>\n",
       "    <tr>\n",
       "      <th>ilmessaggeroit</th>\n",
       "      <td>181</td>\n",
       "      <td>980</td>\n",
       "      <td>535</td>\n",
       "      <td>494178</td>\n",
       "      <td>8.370166</td>\n",
       "      <td>-1</td>\n",
       "    </tr>\n",
       "  </tbody>\n",
       "</table>\n",
       "</div>"
      ],
      "text/plain": [
       "                 tweet count  fav_count sum  retw_count sum  followers count  \\\n",
       "source                                                                         \n",
       "huffpostitalia           127           7976            1956           630162   \n",
       "ilmanifesto               11            345             156           205146   \n",
       "fattoquotidiano          138           3737            1903          2100000   \n",
       "repubblica               210           3689            1335          3300000   \n",
       "lastampa                 146           2432             711          1200000   \n",
       "internazionale            14            183              74          1300000   \n",
       "ilriformista              28            218             104            22699   \n",
       "ilmessaggeroit           181            980             535           494178   \n",
       "\n",
       "                 interaction  index  \n",
       "source                               \n",
       "huffpostitalia     78.204724     -1  \n",
       "ilmanifesto        45.545455     -1  \n",
       "fattoquotidiano    40.869565     -1  \n",
       "repubblica         23.923810     -1  \n",
       "lastampa           21.527397     -1  \n",
       "internazionale     18.357143     -1  \n",
       "ilriformista       11.500000     -1  \n",
       "ilmessaggeroit      8.370166     -1  "
      ]
     },
     "execution_count": 41,
     "metadata": {},
     "output_type": "execute_result"
    }
   ],
   "source": [
    "totSX.sort_values(by=['interaction'], ascending=False)"
   ]
  },
  {
   "cell_type": "code",
   "execution_count": 42,
   "metadata": {},
   "outputs": [
    {
     "name": "stdout",
     "output_type": "stream",
     "text": [
      "Interaction mean:  31.03728244492217\n",
      "Interaction median:  22.725603392041748\n"
     ]
    }
   ],
   "source": [
    "print('Interaction mean: ',totSX['interaction'].mean())\n",
    "print('Interaction median: ',totSX['interaction'].median())"
   ]
  },
  {
   "cell_type": "code",
   "execution_count": 43,
   "metadata": {},
   "outputs": [
    {
     "data": {
      "text/html": [
       "<div>\n",
       "<style scoped>\n",
       "    .dataframe tbody tr th:only-of-type {\n",
       "        vertical-align: middle;\n",
       "    }\n",
       "\n",
       "    .dataframe tbody tr th {\n",
       "        vertical-align: top;\n",
       "    }\n",
       "\n",
       "    .dataframe thead th {\n",
       "        text-align: right;\n",
       "    }\n",
       "</style>\n",
       "<table border=\"1\" class=\"dataframe\">\n",
       "  <thead>\n",
       "    <tr style=\"text-align: right;\">\n",
       "      <th></th>\n",
       "      <th>tweet count</th>\n",
       "      <th>fav_count sum</th>\n",
       "      <th>retw_count sum</th>\n",
       "      <th>followers count</th>\n",
       "      <th>interaction</th>\n",
       "      <th>index</th>\n",
       "    </tr>\n",
       "    <tr>\n",
       "      <th>source</th>\n",
       "      <th></th>\n",
       "      <th></th>\n",
       "      <th></th>\n",
       "      <th></th>\n",
       "      <th></th>\n",
       "      <th></th>\n",
       "    </tr>\n",
       "  </thead>\n",
       "  <tbody>\n",
       "    <tr>\n",
       "      <th>agenzia_ansa</th>\n",
       "      <td>157</td>\n",
       "      <td>8767</td>\n",
       "      <td>2768</td>\n",
       "      <td>1700000</td>\n",
       "      <td>73.471338</td>\n",
       "      <td>0</td>\n",
       "    </tr>\n",
       "    <tr>\n",
       "      <th>corriere</th>\n",
       "      <td>60</td>\n",
       "      <td>2481</td>\n",
       "      <td>506</td>\n",
       "      <td>2500000</td>\n",
       "      <td>49.783333</td>\n",
       "      <td>0</td>\n",
       "    </tr>\n",
       "    <tr>\n",
       "      <th>mediasettgcom24</th>\n",
       "      <td>417</td>\n",
       "      <td>13551</td>\n",
       "      <td>3590</td>\n",
       "      <td>1300000</td>\n",
       "      <td>41.105516</td>\n",
       "      <td>0</td>\n",
       "    </tr>\n",
       "    <tr>\n",
       "      <th>adnkronos</th>\n",
       "      <td>430</td>\n",
       "      <td>8320</td>\n",
       "      <td>3143</td>\n",
       "      <td>578989</td>\n",
       "      <td>26.658140</td>\n",
       "      <td>0</td>\n",
       "    </tr>\n",
       "    <tr>\n",
       "      <th>ilpost</th>\n",
       "      <td>27</td>\n",
       "      <td>575</td>\n",
       "      <td>135</td>\n",
       "      <td>700184</td>\n",
       "      <td>26.296296</td>\n",
       "      <td>0</td>\n",
       "    </tr>\n",
       "    <tr>\n",
       "      <th>rainews</th>\n",
       "      <td>37</td>\n",
       "      <td>609</td>\n",
       "      <td>266</td>\n",
       "      <td>1200000</td>\n",
       "      <td>23.648649</td>\n",
       "      <td>0</td>\n",
       "    </tr>\n",
       "    <tr>\n",
       "      <th>agenzia_italia</th>\n",
       "      <td>28</td>\n",
       "      <td>210</td>\n",
       "      <td>120</td>\n",
       "      <td>241421</td>\n",
       "      <td>11.785714</td>\n",
       "      <td>0</td>\n",
       "    </tr>\n",
       "    <tr>\n",
       "      <th>mattinodinapoli</th>\n",
       "      <td>64</td>\n",
       "      <td>262</td>\n",
       "      <td>66</td>\n",
       "      <td>275058</td>\n",
       "      <td>5.125000</td>\n",
       "      <td>0</td>\n",
       "    </tr>\n",
       "  </tbody>\n",
       "</table>\n",
       "</div>"
      ],
      "text/plain": [
       "                 tweet count  fav_count sum  retw_count sum  followers count  \\\n",
       "source                                                                         \n",
       "agenzia_ansa             157           8767            2768          1700000   \n",
       "corriere                  60           2481             506          2500000   \n",
       "mediasettgcom24          417          13551            3590          1300000   \n",
       "adnkronos                430           8320            3143           578989   \n",
       "ilpost                    27            575             135           700184   \n",
       "rainews                   37            609             266          1200000   \n",
       "agenzia_italia            28            210             120           241421   \n",
       "mattinodinapoli           64            262              66           275058   \n",
       "\n",
       "                 interaction  index  \n",
       "source                               \n",
       "agenzia_ansa       73.471338      0  \n",
       "corriere           49.783333      0  \n",
       "mediasettgcom24    41.105516      0  \n",
       "adnkronos          26.658140      0  \n",
       "ilpost             26.296296      0  \n",
       "rainews            23.648649      0  \n",
       "agenzia_italia     11.785714      0  \n",
       "mattinodinapoli     5.125000      0  "
      ]
     },
     "execution_count": 43,
     "metadata": {},
     "output_type": "execute_result"
    }
   ],
   "source": [
    "totC.sort_values(by=['interaction'], ascending=False)"
   ]
  },
  {
   "cell_type": "code",
   "execution_count": 44,
   "metadata": {},
   "outputs": [
    {
     "name": "stdout",
     "output_type": "stream",
     "text": [
      "Interaction mean:  32.23424815825301\n",
      "Interaction median:  26.47721791559001\n"
     ]
    }
   ],
   "source": [
    "print('Interaction mean: ',totC['interaction'].mean())\n",
    "print('Interaction median: ',totC['interaction'].median())"
   ]
  },
  {
   "cell_type": "code",
   "execution_count": 45,
   "metadata": {},
   "outputs": [
    {
     "data": {
      "text/html": [
       "<div>\n",
       "<style scoped>\n",
       "    .dataframe tbody tr th:only-of-type {\n",
       "        vertical-align: middle;\n",
       "    }\n",
       "\n",
       "    .dataframe tbody tr th {\n",
       "        vertical-align: top;\n",
       "    }\n",
       "\n",
       "    .dataframe thead th {\n",
       "        text-align: right;\n",
       "    }\n",
       "</style>\n",
       "<table border=\"1\" class=\"dataframe\">\n",
       "  <thead>\n",
       "    <tr style=\"text-align: right;\">\n",
       "      <th></th>\n",
       "      <th>tweet count</th>\n",
       "      <th>fav_count sum</th>\n",
       "      <th>retw_count sum</th>\n",
       "      <th>followers count</th>\n",
       "      <th>interaction</th>\n",
       "      <th>index</th>\n",
       "    </tr>\n",
       "    <tr>\n",
       "      <th>source</th>\n",
       "      <th></th>\n",
       "      <th></th>\n",
       "      <th></th>\n",
       "      <th></th>\n",
       "      <th></th>\n",
       "      <th></th>\n",
       "    </tr>\n",
       "  </thead>\n",
       "  <tbody>\n",
       "    <tr>\n",
       "      <th>laveritaweb</th>\n",
       "      <td>8</td>\n",
       "      <td>2345</td>\n",
       "      <td>871</td>\n",
       "      <td>175641</td>\n",
       "      <td>402.000000</td>\n",
       "      <td>1</td>\n",
       "    </tr>\n",
       "    <tr>\n",
       "      <th>libero_official</th>\n",
       "      <td>51</td>\n",
       "      <td>1887</td>\n",
       "      <td>569</td>\n",
       "      <td>314275</td>\n",
       "      <td>48.156863</td>\n",
       "      <td>1</td>\n",
       "    </tr>\n",
       "    <tr>\n",
       "      <th>avvenire_nei</th>\n",
       "      <td>40</td>\n",
       "      <td>958</td>\n",
       "      <td>399</td>\n",
       "      <td>101422</td>\n",
       "      <td>33.925000</td>\n",
       "      <td>1</td>\n",
       "    </tr>\n",
       "    <tr>\n",
       "      <th>ilfoglio_it</th>\n",
       "      <td>44</td>\n",
       "      <td>605</td>\n",
       "      <td>165</td>\n",
       "      <td>251246</td>\n",
       "      <td>17.500000</td>\n",
       "      <td>1</td>\n",
       "    </tr>\n",
       "    <tr>\n",
       "      <th>ilgiornale</th>\n",
       "      <td>50</td>\n",
       "      <td>436</td>\n",
       "      <td>120</td>\n",
       "      <td>567738</td>\n",
       "      <td>11.120000</td>\n",
       "      <td>1</td>\n",
       "    </tr>\n",
       "    <tr>\n",
       "      <th>qn_giorno</th>\n",
       "      <td>65</td>\n",
       "      <td>99</td>\n",
       "      <td>41</td>\n",
       "      <td>15418</td>\n",
       "      <td>2.153846</td>\n",
       "      <td>1</td>\n",
       "    </tr>\n",
       "    <tr>\n",
       "      <th>gazzettino</th>\n",
       "      <td>185</td>\n",
       "      <td>151</td>\n",
       "      <td>80</td>\n",
       "      <td>70693</td>\n",
       "      <td>1.248649</td>\n",
       "      <td>1</td>\n",
       "    </tr>\n",
       "    <tr>\n",
       "      <th>qn_lanazione</th>\n",
       "      <td>86</td>\n",
       "      <td>51</td>\n",
       "      <td>30</td>\n",
       "      <td>60602</td>\n",
       "      <td>0.941860</td>\n",
       "      <td>1</td>\n",
       "    </tr>\n",
       "    <tr>\n",
       "      <th>qn_carlino</th>\n",
       "      <td>82</td>\n",
       "      <td>29</td>\n",
       "      <td>32</td>\n",
       "      <td>53983</td>\n",
       "      <td>0.743902</td>\n",
       "      <td>1</td>\n",
       "    </tr>\n",
       "  </tbody>\n",
       "</table>\n",
       "</div>"
      ],
      "text/plain": [
       "                 tweet count  fav_count sum  retw_count sum  followers count  \\\n",
       "source                                                                         \n",
       "laveritaweb                8           2345             871           175641   \n",
       "libero_official           51           1887             569           314275   \n",
       "avvenire_nei              40            958             399           101422   \n",
       "ilfoglio_it               44            605             165           251246   \n",
       "ilgiornale                50            436             120           567738   \n",
       "qn_giorno                 65             99              41            15418   \n",
       "gazzettino               185            151              80            70693   \n",
       "qn_lanazione              86             51              30            60602   \n",
       "qn_carlino                82             29              32            53983   \n",
       "\n",
       "                 interaction  index  \n",
       "source                               \n",
       "laveritaweb       402.000000      1  \n",
       "libero_official    48.156863      1  \n",
       "avvenire_nei       33.925000      1  \n",
       "ilfoglio_it        17.500000      1  \n",
       "ilgiornale         11.120000      1  \n",
       "qn_giorno           2.153846      1  \n",
       "gazzettino          1.248649      1  \n",
       "qn_lanazione        0.941860      1  \n",
       "qn_carlino          0.743902      1  "
      ]
     },
     "execution_count": 45,
     "metadata": {},
     "output_type": "execute_result"
    }
   ],
   "source": [
    "totDX.sort_values(by=['interaction'], ascending=False)"
   ]
  },
  {
   "cell_type": "code",
   "execution_count": 46,
   "metadata": {},
   "outputs": [
    {
     "name": "stdout",
     "output_type": "stream",
     "text": [
      "Interaction mean:  57.53223560574817\n",
      "Interaction median:  11.12\n"
     ]
    }
   ],
   "source": [
    "print('Interaction mean: ',totDX['interaction'].mean())\n",
    "print('Interaction median: ',totDX['interaction'].median())"
   ]
  }
 ],
 "metadata": {
  "interpreter": {
   "hash": "8aaef33e4825cc75c10d5503a8badec4de06c5b884d15b4da0ae20ec31a339b4"
  },
  "kernelspec": {
   "display_name": "Python 3.9.13 64-bit",
   "language": "python",
   "name": "python3"
  },
  "language_info": {
   "codemirror_mode": {
    "name": "ipython",
    "version": 3
   },
   "file_extension": ".py",
   "mimetype": "text/x-python",
   "name": "python",
   "nbconvert_exporter": "python",
   "pygments_lexer": "ipython3",
   "version": "3.9.13"
  },
  "orig_nbformat": 4
 },
 "nbformat": 4,
 "nbformat_minor": 2
}
