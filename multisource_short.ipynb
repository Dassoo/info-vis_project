{
  "nbformat": 4,
  "nbformat_minor": 0,
  "metadata": {
    "colab": {
      "name": "Multisource Short.ipynb",
      "provenance": [],
      "collapsed_sections": []
    },
    "kernelspec": {
      "name": "python3",
      "display_name": "Python 3"
    },
    "language_info": {
      "name": "python"
    }
  },
  "cells": [
    {
      "cell_type": "markdown",
      "source": [
        "## Retrieving the news from every newspaper related with Covid-19, Green Pass and Migrants according to some keywords"
      ],
      "metadata": {
        "id": "uqcUoTZflcs6"
      }
    },
    {
      "cell_type": "code",
      "metadata": {
        "id": "eOu2kTmpK64g"
      },
      "source": [
        "import tweepy\n",
        "from google.colab import files\n",
        "import pandas as pd\n",
        "\n",
        "# Pandas tables settings\n",
        "pd.set_option('display.max_rows', 500)\n",
        "pd.set_option('display.max_columns', 500)\n",
        "pd.set_option('display.width', 1000)\n",
        "pd.set_option('display.max_colwidth', None)\n",
        "\n",
        "# Twitter API keys/tokens\n",
        "consumer_key= 'AYzNacEnro8ZDxYkZmPhlITtm'\n",
        "consumer_secret= 'nt3tji8s1J0hreuKF1patIwqpbo2NosLILpZDrDggYYSgzXGoY'\n",
        "access_token= '1009541628-xYJxTeOeIc088qgzpmdGSAiw0Vkxtrr9RSCxpEY'\n",
        "access_token_secret= '0Ck4QxDkp0jnbf1m63kjooBmibGeXOfaIKCmwJ6J39KNL'\n",
        "# bearer_token = AAAAAAAAAAAAAAAAAAAAADzOUQEAAAAA02i%2FdSOaGyW2Rb40JtH9AuVavV8%3D4VnmTBZ6JrlKtKNRO8D530LVQNvhVHj0wpGRdluzwAnHfV7EjE\n",
        "\n",
        "# Connecting to API\n",
        "auth = tweepy.OAuthHandler(consumer_key, consumer_secret)\n",
        "auth.set_access_token(access_token, access_token_secret)\n",
        "api = tweepy.API(auth, wait_on_rate_limit=True, wait_on_rate_limit_notify=True)\n",
        "\n",
        "# Keywords to search (do not leave empty)\n",
        "keyword = \"Migranti\"\n",
        "keyword2 = \"migranti\"\n",
        "\n",
        "# List of sources and their respective political index\n",
        "sources = ['agenzia_ansa', 'agenzia_italia', 'rainews', 'mediasettgcom24','adnkronos','corriere','mattinodinapoli','avvenire_nei','ilpost',\n",
        "           'lastampa','ilmessaggeroit','ilriformista','ilmanifesto','fattoquotidiano','repubblica','internazionale','huffpostitalia','lespresso',\n",
        "           'qn_lanazione','libero_official','ilgiornale','ilfoglio_it','gazzettino','laveritaweb','qn_carlino','tempo_web','qn_giorno']\n",
        "index = [0,0,0,0,0,0,0,0,0,-1,-1,-1,-1,-1,-1,-1,-1,-1,1,1,1,1,1,1,1,1,1]"
      ],
      "execution_count": null,
      "outputs": []
    },
    {
      "cell_type": "code",
      "metadata": {
        "id": "qw6tBxZ4LJAi"
      },
      "source": [
        "i = 0\n",
        "temp2 = pd.DataFrame()\n",
        "\n",
        "# Retrieving Tweets from every source listed above\n",
        "for source in sources:\n",
        "  # Retrieving Tweets\n",
        "  tweets = api.user_timeline(screen_name = source,count = 200,include_rts = True)\n",
        "  # Chosing Tweets parameters\n",
        "  tweet_data = [[tweet.created_at, tweet.text, tweet.favorite_count, tweet.retweet_count] for tweet in tweets]\n",
        "  tweet_pd = pd.DataFrame(data=tweet_data, columns=['created', \"text\",\"fav_count\",\"retw_count\"])\n",
        "  # Adding the source and its index\n",
        "  tweet_pd['source'] = source\n",
        "  tweet_pd['index'] = index[i]\n",
        "  # Filtering by keywords\n",
        "  temp = tweet_pd[(tweet_pd['text'].str.contains(keyword)) | (tweet_pd['text'].str.contains(keyword2))]\n",
        "  temp2 = temp2.append(temp, ignore_index=True)\n",
        "  i = i+1"
      ],
      "execution_count": null,
      "outputs": []
    },
    {
      "cell_type": "markdown",
      "metadata": {
        "id": "Rv48wDKScMTc"
      },
      "source": [
        "## Date filter"
      ]
    },
    {
      "cell_type": "code",
      "metadata": {
        "id": "L7T8Osk9aa6g",
        "colab": {
          "base_uri": "https://localhost:8080/",
          "height": 394
        },
        "outputId": "edf01090-5beb-4324-93e2-9a1cd33b4e79"
      },
      "source": [
        "# Filtering by date\n",
        "date = '2021-04-01'  # date \"since\"\n",
        "filtered = pd.DataFrame()\n",
        "\n",
        "temp3 = temp2[(temp2['created'] > date)]\n",
        "filtered = filtered.append(temp3, ignore_index = True)\n",
        "filtered"
      ],
      "execution_count": null,
      "outputs": [
        {
          "output_type": "execute_result",
          "data": {
            "text/plain": [
              "               created                                                                                                                                          text  fav_count  retw_count           source  index\n",
              "0  2022-04-11 10:54:05                                                       Nuovo naufragio in mare. 19 i migranti tra i dispersi e i morti https://t.co/I7RKQRsADT          3           0          rainews      0\n",
              "1  2022-04-08 09:29:12       #OpenArms, la testimonianza del medico Vincenzo Asaro: \"Rischioso per la salute dei #migranti restare a bordo\". https://t.co/NzqdAUc788          7           4        adnkronos      0\n",
              "2  2022-04-10 14:50:24                                                Negli ultimi tre giorni a Lampedusa sono arrivati più di 800 migranti\\nhttps://t.co/OGTXzHqfVz         17           3           ilpost      0\n",
              "3  2022-04-10 14:42:40                            Lampedusa, oltre 700 migranti in 24 ore. Il sindaco: “Silenzio inquietante da Italia e Ue” https://t.co/GlLqC6yv3L         32          15         lastampa     -1\n",
              "4  2022-04-10 14:42:33                            Lampedusa, oltre 700 migranti in 24 ore. Il sindaco: “Silenzio inquietante da Italia e Ue” https://t.co/lmKFoFxx7b          2           1         lastampa     -1\n",
              "5  2022-04-08 09:45:08                                        Dal Texas a Washington «pullman di migranti illegali per Biden» | il manifesto https://t.co/7brrM8mB8H          2           3      ilmanifesto     -1\n",
              "6  2022-04-10 10:35:08  Migranti, un altro naufragio nel Mediterraneo: Sea Watch salva 34 persone. L’hotspot di Lampedusa strapieno: 830 sb… https://t.co/DLgjeb8RlZ         27          21  fattoquotidiano     -1\n",
              "7  2022-04-10 13:57:43  Lampedusa, sbarchi senza sosta: oltre 800 migranti sull'isola in 48 ore. Martello: \"Situazione eccezionale, l'Ue in… https://t.co/AnTwMic7hd         18          13       repubblica     -1\n",
              "8  2022-04-10 13:54:04  Lampedusa, sbarchi senza sosta: oltre 800 migranti sull'isola in 48 ore. Martello: \"Situazione eccezionale, l'Ue in… https://t.co/Od6A4XIEjo         13           8       repubblica     -1\n",
              "9  2022-03-24 13:25:00   Sono sempre di più i migranti che partono dalla Turchia grazie a una rete criminale. Vengono trasportati su barche… https://t.co/ftoasmjwLZ          9           8   internazionale     -1\n",
              "10 2022-04-10 15:07:17  Un'ondata di sbarchi straordinaria si sta verificando a Lampedusa, dove in poche ore sono arrivati 811 migranti. Ho… https://t.co/XmAII0aJHb         17          15       ilgiornale      1"
            ],
            "text/html": [
              "\n",
              "  <div id=\"df-5ceb6b32-de32-4e48-9b95-1d77b15801c7\">\n",
              "    <div class=\"colab-df-container\">\n",
              "      <div>\n",
              "<style scoped>\n",
              "    .dataframe tbody tr th:only-of-type {\n",
              "        vertical-align: middle;\n",
              "    }\n",
              "\n",
              "    .dataframe tbody tr th {\n",
              "        vertical-align: top;\n",
              "    }\n",
              "\n",
              "    .dataframe thead th {\n",
              "        text-align: right;\n",
              "    }\n",
              "</style>\n",
              "<table border=\"1\" class=\"dataframe\">\n",
              "  <thead>\n",
              "    <tr style=\"text-align: right;\">\n",
              "      <th></th>\n",
              "      <th>created</th>\n",
              "      <th>text</th>\n",
              "      <th>fav_count</th>\n",
              "      <th>retw_count</th>\n",
              "      <th>source</th>\n",
              "      <th>index</th>\n",
              "    </tr>\n",
              "  </thead>\n",
              "  <tbody>\n",
              "    <tr>\n",
              "      <th>0</th>\n",
              "      <td>2022-04-11 10:54:05</td>\n",
              "      <td>Nuovo naufragio in mare. 19 i migranti tra i dispersi e i morti https://t.co/I7RKQRsADT</td>\n",
              "      <td>3</td>\n",
              "      <td>0</td>\n",
              "      <td>rainews</td>\n",
              "      <td>0</td>\n",
              "    </tr>\n",
              "    <tr>\n",
              "      <th>1</th>\n",
              "      <td>2022-04-08 09:29:12</td>\n",
              "      <td>#OpenArms, la testimonianza del medico Vincenzo Asaro: \"Rischioso per la salute dei #migranti restare a bordo\". https://t.co/NzqdAUc788</td>\n",
              "      <td>7</td>\n",
              "      <td>4</td>\n",
              "      <td>adnkronos</td>\n",
              "      <td>0</td>\n",
              "    </tr>\n",
              "    <tr>\n",
              "      <th>2</th>\n",
              "      <td>2022-04-10 14:50:24</td>\n",
              "      <td>Negli ultimi tre giorni a Lampedusa sono arrivati più di 800 migranti\\nhttps://t.co/OGTXzHqfVz</td>\n",
              "      <td>17</td>\n",
              "      <td>3</td>\n",
              "      <td>ilpost</td>\n",
              "      <td>0</td>\n",
              "    </tr>\n",
              "    <tr>\n",
              "      <th>3</th>\n",
              "      <td>2022-04-10 14:42:40</td>\n",
              "      <td>Lampedusa, oltre 700 migranti in 24 ore. Il sindaco: “Silenzio inquietante da Italia e Ue” https://t.co/GlLqC6yv3L</td>\n",
              "      <td>32</td>\n",
              "      <td>15</td>\n",
              "      <td>lastampa</td>\n",
              "      <td>-1</td>\n",
              "    </tr>\n",
              "    <tr>\n",
              "      <th>4</th>\n",
              "      <td>2022-04-10 14:42:33</td>\n",
              "      <td>Lampedusa, oltre 700 migranti in 24 ore. Il sindaco: “Silenzio inquietante da Italia e Ue” https://t.co/lmKFoFxx7b</td>\n",
              "      <td>2</td>\n",
              "      <td>1</td>\n",
              "      <td>lastampa</td>\n",
              "      <td>-1</td>\n",
              "    </tr>\n",
              "    <tr>\n",
              "      <th>5</th>\n",
              "      <td>2022-04-08 09:45:08</td>\n",
              "      <td>Dal Texas a Washington «pullman di migranti illegali per Biden» | il manifesto https://t.co/7brrM8mB8H</td>\n",
              "      <td>2</td>\n",
              "      <td>3</td>\n",
              "      <td>ilmanifesto</td>\n",
              "      <td>-1</td>\n",
              "    </tr>\n",
              "    <tr>\n",
              "      <th>6</th>\n",
              "      <td>2022-04-10 10:35:08</td>\n",
              "      <td>Migranti, un altro naufragio nel Mediterraneo: Sea Watch salva 34 persone. L’hotspot di Lampedusa strapieno: 830 sb… https://t.co/DLgjeb8RlZ</td>\n",
              "      <td>27</td>\n",
              "      <td>21</td>\n",
              "      <td>fattoquotidiano</td>\n",
              "      <td>-1</td>\n",
              "    </tr>\n",
              "    <tr>\n",
              "      <th>7</th>\n",
              "      <td>2022-04-10 13:57:43</td>\n",
              "      <td>Lampedusa, sbarchi senza sosta: oltre 800 migranti sull'isola in 48 ore. Martello: \"Situazione eccezionale, l'Ue in… https://t.co/AnTwMic7hd</td>\n",
              "      <td>18</td>\n",
              "      <td>13</td>\n",
              "      <td>repubblica</td>\n",
              "      <td>-1</td>\n",
              "    </tr>\n",
              "    <tr>\n",
              "      <th>8</th>\n",
              "      <td>2022-04-10 13:54:04</td>\n",
              "      <td>Lampedusa, sbarchi senza sosta: oltre 800 migranti sull'isola in 48 ore. Martello: \"Situazione eccezionale, l'Ue in… https://t.co/Od6A4XIEjo</td>\n",
              "      <td>13</td>\n",
              "      <td>8</td>\n",
              "      <td>repubblica</td>\n",
              "      <td>-1</td>\n",
              "    </tr>\n",
              "    <tr>\n",
              "      <th>9</th>\n",
              "      <td>2022-03-24 13:25:00</td>\n",
              "      <td>Sono sempre di più i migranti che partono dalla Turchia grazie a una rete criminale. Vengono trasportati su barche… https://t.co/ftoasmjwLZ</td>\n",
              "      <td>9</td>\n",
              "      <td>8</td>\n",
              "      <td>internazionale</td>\n",
              "      <td>-1</td>\n",
              "    </tr>\n",
              "    <tr>\n",
              "      <th>10</th>\n",
              "      <td>2022-04-10 15:07:17</td>\n",
              "      <td>Un'ondata di sbarchi straordinaria si sta verificando a Lampedusa, dove in poche ore sono arrivati 811 migranti. Ho… https://t.co/XmAII0aJHb</td>\n",
              "      <td>17</td>\n",
              "      <td>15</td>\n",
              "      <td>ilgiornale</td>\n",
              "      <td>1</td>\n",
              "    </tr>\n",
              "  </tbody>\n",
              "</table>\n",
              "</div>\n",
              "      <button class=\"colab-df-convert\" onclick=\"convertToInteractive('df-5ceb6b32-de32-4e48-9b95-1d77b15801c7')\"\n",
              "              title=\"Convert this dataframe to an interactive table.\"\n",
              "              style=\"display:none;\">\n",
              "        \n",
              "  <svg xmlns=\"http://www.w3.org/2000/svg\" height=\"24px\"viewBox=\"0 0 24 24\"\n",
              "       width=\"24px\">\n",
              "    <path d=\"M0 0h24v24H0V0z\" fill=\"none\"/>\n",
              "    <path d=\"M18.56 5.44l.94 2.06.94-2.06 2.06-.94-2.06-.94-.94-2.06-.94 2.06-2.06.94zm-11 1L8.5 8.5l.94-2.06 2.06-.94-2.06-.94L8.5 2.5l-.94 2.06-2.06.94zm10 10l.94 2.06.94-2.06 2.06-.94-2.06-.94-.94-2.06-.94 2.06-2.06.94z\"/><path d=\"M17.41 7.96l-1.37-1.37c-.4-.4-.92-.59-1.43-.59-.52 0-1.04.2-1.43.59L10.3 9.45l-7.72 7.72c-.78.78-.78 2.05 0 2.83L4 21.41c.39.39.9.59 1.41.59.51 0 1.02-.2 1.41-.59l7.78-7.78 2.81-2.81c.8-.78.8-2.07 0-2.86zM5.41 20L4 18.59l7.72-7.72 1.47 1.35L5.41 20z\"/>\n",
              "  </svg>\n",
              "      </button>\n",
              "      \n",
              "  <style>\n",
              "    .colab-df-container {\n",
              "      display:flex;\n",
              "      flex-wrap:wrap;\n",
              "      gap: 12px;\n",
              "    }\n",
              "\n",
              "    .colab-df-convert {\n",
              "      background-color: #E8F0FE;\n",
              "      border: none;\n",
              "      border-radius: 50%;\n",
              "      cursor: pointer;\n",
              "      display: none;\n",
              "      fill: #1967D2;\n",
              "      height: 32px;\n",
              "      padding: 0 0 0 0;\n",
              "      width: 32px;\n",
              "    }\n",
              "\n",
              "    .colab-df-convert:hover {\n",
              "      background-color: #E2EBFA;\n",
              "      box-shadow: 0px 1px 2px rgba(60, 64, 67, 0.3), 0px 1px 3px 1px rgba(60, 64, 67, 0.15);\n",
              "      fill: #174EA6;\n",
              "    }\n",
              "\n",
              "    [theme=dark] .colab-df-convert {\n",
              "      background-color: #3B4455;\n",
              "      fill: #D2E3FC;\n",
              "    }\n",
              "\n",
              "    [theme=dark] .colab-df-convert:hover {\n",
              "      background-color: #434B5C;\n",
              "      box-shadow: 0px 1px 3px 1px rgba(0, 0, 0, 0.15);\n",
              "      filter: drop-shadow(0px 1px 2px rgba(0, 0, 0, 0.3));\n",
              "      fill: #FFFFFF;\n",
              "    }\n",
              "  </style>\n",
              "\n",
              "      <script>\n",
              "        const buttonEl =\n",
              "          document.querySelector('#df-5ceb6b32-de32-4e48-9b95-1d77b15801c7 button.colab-df-convert');\n",
              "        buttonEl.style.display =\n",
              "          google.colab.kernel.accessAllowed ? 'block' : 'none';\n",
              "\n",
              "        async function convertToInteractive(key) {\n",
              "          const element = document.querySelector('#df-5ceb6b32-de32-4e48-9b95-1d77b15801c7');\n",
              "          const dataTable =\n",
              "            await google.colab.kernel.invokeFunction('convertToInteractive',\n",
              "                                                     [key], {});\n",
              "          if (!dataTable) return;\n",
              "\n",
              "          const docLinkHtml = 'Like what you see? Visit the ' +\n",
              "            '<a target=\"_blank\" href=https://colab.research.google.com/notebooks/data_table.ipynb>data table notebook</a>'\n",
              "            + ' to learn more about interactive tables.';\n",
              "          element.innerHTML = '';\n",
              "          dataTable['output_type'] = 'display_data';\n",
              "          await google.colab.output.renderOutput(dataTable, element);\n",
              "          const docLink = document.createElement('div');\n",
              "          docLink.innerHTML = docLinkHtml;\n",
              "          element.appendChild(docLink);\n",
              "        }\n",
              "      </script>\n",
              "    </div>\n",
              "  </div>\n",
              "  "
            ]
          },
          "metadata": {},
          "execution_count": 18
        }
      ]
    },
    {
      "cell_type": "code",
      "metadata": {
        "id": "hVidvP6JTX5U",
        "colab": {
          "base_uri": "https://localhost:8080/"
        },
        "outputId": "018e290d-7de9-47b3-dad8-8dd4572e72b6"
      },
      "source": [
        "# Printing means, medians and STDs\n",
        "print('Fav_count mean: ', filtered['fav_count'].mean())\n",
        "print('Fav_count median: ', filtered['fav_count'].median())\n",
        "print('Retw_count mean: ', filtered['retw_count'].mean())\n",
        "print('Retw_count median: ', filtered['retw_count'].median())\n",
        "print('Fav_count standard deviation: ', filtered['fav_count'].std())\n",
        "print('Retw_count standard deviation: ', filtered['retw_count'].std())"
      ],
      "execution_count": null,
      "outputs": [
        {
          "output_type": "stream",
          "name": "stdout",
          "text": [
            "Fav_count mean:  13.363636363636363\n",
            "Fav_count median:  13.0\n",
            "Retw_count mean:  8.272727272727273\n",
            "Retw_count median:  8.0\n",
            "Fav_count standard deviation:  10.03267389356125\n",
            "Retw_count standard deviation:  6.856980517558863\n"
          ]
        }
      ]
    },
    {
      "cell_type": "code",
      "metadata": {
        "colab": {
          "base_uri": "https://localhost:8080/",
          "height": 17
        },
        "id": "tH7HpMsGrI6S",
        "outputId": "568ef903-eb70-4bc6-dd41-af05d4956073"
      },
      "source": [
        "# Exporting data in CSV file\n",
        "filtered.to_csv('data.csv')\n",
        "files.download(\"data.csv\")"
      ],
      "execution_count": null,
      "outputs": [
        {
          "output_type": "display_data",
          "data": {
            "text/plain": [
              "<IPython.core.display.Javascript object>"
            ],
            "application/javascript": [
              "\n",
              "    async function download(id, filename, size) {\n",
              "      if (!google.colab.kernel.accessAllowed) {\n",
              "        return;\n",
              "      }\n",
              "      const div = document.createElement('div');\n",
              "      const label = document.createElement('label');\n",
              "      label.textContent = `Downloading \"${filename}\": `;\n",
              "      div.appendChild(label);\n",
              "      const progress = document.createElement('progress');\n",
              "      progress.max = size;\n",
              "      div.appendChild(progress);\n",
              "      document.body.appendChild(div);\n",
              "\n",
              "      const buffers = [];\n",
              "      let downloaded = 0;\n",
              "\n",
              "      const channel = await google.colab.kernel.comms.open(id);\n",
              "      // Send a message to notify the kernel that we're ready.\n",
              "      channel.send({})\n",
              "\n",
              "      for await (const message of channel.messages) {\n",
              "        // Send a message to notify the kernel that we're ready.\n",
              "        channel.send({})\n",
              "        if (message.buffers) {\n",
              "          for (const buffer of message.buffers) {\n",
              "            buffers.push(buffer);\n",
              "            downloaded += buffer.byteLength;\n",
              "            progress.value = downloaded;\n",
              "          }\n",
              "        }\n",
              "      }\n",
              "      const blob = new Blob(buffers, {type: 'application/binary'});\n",
              "      const a = document.createElement('a');\n",
              "      a.href = window.URL.createObjectURL(blob);\n",
              "      a.download = filename;\n",
              "      div.appendChild(a);\n",
              "      a.click();\n",
              "      div.remove();\n",
              "    }\n",
              "  "
            ]
          },
          "metadata": {}
        },
        {
          "output_type": "display_data",
          "data": {
            "text/plain": [
              "<IPython.core.display.Javascript object>"
            ],
            "application/javascript": [
              "download(\"download_36472fc1-db0e-4c09-af60-936b4c7e5c32\", \"data.csv\", 1892)"
            ]
          },
          "metadata": {}
        }
      ]
    }
  ]
}